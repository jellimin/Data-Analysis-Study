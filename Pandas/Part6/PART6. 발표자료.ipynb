{
 "cells": [
  {
   "cell_type": "markdown",
   "id": "f308eb72",
   "metadata": {},
   "source": [
    "# 6. 멀티인덱스\n",
    "\n",
    "groupby() 메소드에 여러 열을 리스트 형태로 전달하면 각 열들이 다중으로 행 인덱스를 구성 <br>\n",
    "판다스는 행 인덱스를 여러 레벨로 구현할 수 있도록 멀티 인덱스 클래스를 지원"
   ]
  },
  {
   "cell_type": "code",
   "execution_count": 3,
   "id": "48889184",
   "metadata": {},
   "outputs": [
    {
     "name": "stdout",
     "output_type": "stream",
     "text": [
      "      age     sex   class     fare  survived\n",
      "0    22.0    male   Third   7.2500         0\n",
      "1    38.0  female   First  71.2833         1\n",
      "2    26.0  female   Third   7.9250         1\n",
      "3    35.0  female   First  53.1000         1\n",
      "4    35.0    male   Third   8.0500         0\n",
      "..    ...     ...     ...      ...       ...\n",
      "886  27.0    male  Second  13.0000         0\n",
      "887  19.0  female   First  30.0000         1\n",
      "888   NaN  female   Third  23.4500         0\n",
      "889  26.0    male   First  30.0000         1\n",
      "890  32.0    male   Third   7.7500         0\n",
      "\n",
      "[891 rows x 5 columns]\n"
     ]
    }
   ],
   "source": [
    "# 라이브러리 및 데이터 불러오기\n",
    "import pandas as pd\n",
    "import seaborn as sns\n",
    "\n",
    "titanic = sns.load_dataset('titanic')\n",
    "df = titanic.loc[:, ['age', 'sex', 'class', 'fare', 'survived']]\n",
    "print(df)"
   ]
  },
  {
   "cell_type": "code",
   "execution_count": 5,
   "id": "6ab1876e",
   "metadata": {},
   "outputs": [
    {
     "name": "stdout",
     "output_type": "stream",
     "text": [
      "                     age        fare  survived\n",
      "class  sex                                    \n",
      "First  female  34.611765  106.125798  0.968085\n",
      "       male    41.281386   67.226127  0.368852\n",
      "Second female  28.722973   21.970121  0.921053\n",
      "       male    30.740707   19.741782  0.157407\n",
      "Third  female  21.750000   16.118810  0.500000\n",
      "       male    26.507589   12.661633  0.135447 \n",
      "\n",
      "<class 'pandas.core.frame.DataFrame'> \n",
      "\n"
     ]
    }
   ],
   "source": [
    "# 객실 등급(class)과 남녀 성별(sex)을 기준으로 그룹화\n",
    "grouped = df.groupby(['class', 'sex'])\n",
    "\n",
    "# 그룹 객체에 연산 메소드를 적용\n",
    "# 즉, 각 그룹별로 각 열의 평균값을 정리하여 반환\n",
    "gdf = grouped.mean()\n",
    "print(gdf, '\\n')\n",
    "print(type(gdf), '\\n')"
   ]
  },
  {
   "cell_type": "markdown",
   "id": "d78640e5",
   "metadata": {},
   "source": [
    "## 멀티인덱스에서 특정 인덱스를 뽑아내는 방법\n",
    "* loc 인덱서 : 두 개의 인덱스를 이용할 경우 튜플 형태로 전달\n",
    "* xs 인덱서 : level 옵션을 이용"
   ]
  },
  {
   "cell_type": "code",
   "execution_count": 8,
   "id": "5eb9340f",
   "metadata": {},
   "outputs": [
    {
     "name": "stdout",
     "output_type": "stream",
     "text": [
      "              age        fare  survived\n",
      "sex                                    \n",
      "female  34.611765  106.125798  0.968085\n",
      "male    41.281386   67.226127  0.368852 \n",
      "\n",
      "age          34.611765\n",
      "fare        106.125798\n",
      "survived      0.968085\n",
      "Name: (First, female), dtype: float64 \n",
      "\n"
     ]
    }
   ],
   "source": [
    "# 1. loc 인덱서\n",
    "\n",
    "# class 값이 First인 행을 선택하여 출력\n",
    "print(gdf.loc['First'], '\\n')\n",
    "\n",
    "# class 값이 First이고, sex의 값이 female인 행을 선택하여 출력\n",
    "print(gdf.loc[('First', 'female')], '\\n')"
   ]
  },
  {
   "cell_type": "code",
   "execution_count": 9,
   "id": "d8e92c8e",
   "metadata": {},
   "outputs": [
    {
     "name": "stdout",
     "output_type": "stream",
     "text": [
      "              age       fare  survived\n",
      "class                                 \n",
      "First   41.281386  67.226127  0.368852\n",
      "Second  30.740707  19.741782  0.157407\n",
      "Third   26.507589  12.661633  0.135447\n"
     ]
    }
   ],
   "source": [
    "# 2. xs 인덱서\n",
    "\n",
    "# sex의 값이 male인 행을 선택하여 출력\n",
    "print(gdf.xs('male', level = 'sex'))"
   ]
  },
  {
   "cell_type": "markdown",
   "id": "0cb44690",
   "metadata": {},
   "source": [
    "---"
   ]
  },
  {
   "cell_type": "markdown",
   "id": "5006c09b",
   "metadata": {},
   "source": [
    "# 7. 피벗\n",
    "* 엑셀에서 사용하는 피벗데이블과 비슷한 기능을 처리\n",
    "* 판다스 pivot_table() 함수 이용\n",
    "* 피벗테이블을 구성하는 4가지 요소 \n",
    " 1. 행 인덱스(index)\n",
    " 2. 열 인덱스(columns)\n",
    " 3. 데이터 값(values)\n",
    " 4. 데이터 집계 함수(aggfunc)\n",
    "* 4가지 요소에 적용할 데이터프레임의 열을 각각 지정하여 함수의 인자로 전달"
   ]
  },
  {
   "cell_type": "code",
   "execution_count": 11,
   "id": "616338e4",
   "metadata": {},
   "outputs": [
    {
     "name": "stdout",
     "output_type": "stream",
     "text": [
      "    age     sex  class     fare  survived\n",
      "0  22.0    male  Third   7.2500         0\n",
      "1  38.0  female  First  71.2833         1\n",
      "2  26.0  female  Third   7.9250         1\n",
      "3  35.0  female  First  53.1000         1\n",
      "4  35.0    male  Third   8.0500         0\n"
     ]
    }
   ],
   "source": [
    "# 라이브러리 및 데이터 불러오기\n",
    "import pandas as pd\n",
    "import seaborn as sns\n",
    "\n",
    "pd.set_option('display.max_columns', 10)\n",
    "pd.set_option('display.max_colwidth', 20)\n",
    "\n",
    "titanic = sns.load_dataset('titanic')\n",
    "df = titanic.loc[:, ['age', 'sex', 'class', 'fare', 'survived']]\n",
    "print(df.head())"
   ]
  },
  {
   "cell_type": "code",
   "execution_count": 14,
   "id": "471b02b6",
   "metadata": {},
   "outputs": [
    {
     "name": "stdout",
     "output_type": "stream",
     "text": [
      "sex        female       male\n",
      "class                       \n",
      "First   34.611765  41.281386\n",
      "Second  28.722973  30.740707\n",
      "Third   21.750000  26.507589\n"
     ]
    }
   ],
   "source": [
    "# 행, 열, 값, 집계에 사용할 열을 1개씩 지정 - 평균 집계\n",
    "pdf1 = pd.pivot_table(df,\n",
    "                      index = 'class',\n",
    "                      columns = 'sex',\n",
    "                      values = 'age',\n",
    "                      aggfunc = 'mean')\n",
    "print(pdf1.head())"
   ]
  },
  {
   "cell_type": "code",
   "execution_count": 15,
   "id": "f418cd9c",
   "metadata": {},
   "outputs": [
    {
     "name": "stdout",
     "output_type": "stream",
     "text": [
      "            mean              sum     \n",
      "sex       female      male female male\n",
      "class                                 \n",
      "First   0.968085  0.368852     91   45\n",
      "Second  0.921053  0.157407     70   17\n",
      "Third   0.500000  0.135447     72   47\n"
     ]
    }
   ],
   "source": [
    "# 값에 적용하는 집계 함수 2개 이상 지정 가능 - 생존율, 생존자 수 집계\n",
    "# 열 구조가 2중 멀티 인덱스가 됨\n",
    "# 즉, 데이터 집계 함수가 한 층을 이루고 열이 한 층을 이룸\n",
    "pdf2 = pd.pivot_table(df,\n",
    "                      index = 'class',\n",
    "                      columns = 'sex',\n",
    "                      values = 'survived',\n",
    "                      aggfunc = ['mean', 'sum'])\n",
    "print(pdf2.head())"
   ]
  },
  {
   "cell_type": "code",
   "execution_count": 19,
   "id": "d578c0f2",
   "metadata": {},
   "outputs": [
    {
     "name": "stdout",
     "output_type": "stream",
     "text": [
      "                    mean                                      max        \\\n",
      "                     age                   fare               age         \n",
      "survived               0          1           0           1     0     1   \n",
      "class  sex                                                                \n",
      "First  female  25.666667  34.939024  110.604167  105.978159  50.0  63.0   \n",
      "       male    44.581967  36.248000   62.894910   74.637320  71.0  80.0   \n",
      "Second female  36.000000  28.080882   18.250000   22.288989  57.0  55.0   \n",
      "       male    33.369048  16.022000   19.488965   21.095100  70.0  62.0   \n",
      "Third  female  23.818182  19.329787   19.773093   12.464526  48.0  63.0   \n",
      "\n",
      "                                 \n",
      "                 fare            \n",
      "survived            0         1  \n",
      "class  sex                       \n",
      "First  female  151.55  512.3292  \n",
      "       male    263.00  512.3292  \n",
      "Second female   26.00   65.0000  \n",
      "       male     73.50   39.0000  \n",
      "Third  female   69.55   31.3875   \n",
      "\n",
      "MultiIndex([( 'First', 'female'),\n",
      "            ( 'First',   'male'),\n",
      "            ('Second', 'female'),\n",
      "            ('Second',   'male'),\n",
      "            ( 'Third', 'female'),\n",
      "            ( 'Third',   'male')],\n",
      "           names=['class', 'sex']) \n",
      "\n",
      "MultiIndex([('mean',  'age', 0),\n",
      "            ('mean',  'age', 1),\n",
      "            ('mean', 'fare', 0),\n",
      "            ('mean', 'fare', 1),\n",
      "            ( 'max',  'age', 0),\n",
      "            ( 'max',  'age', 1),\n",
      "            ( 'max', 'fare', 0),\n",
      "            ( 'max', 'fare', 1)],\n",
      "           names=[None, None, 'survived']) \n",
      "\n"
     ]
    }
   ],
   "source": [
    "# 행, 열, 값에 사용할 열을 2개 이상 지정 가능 - 평균 나이, 최대 요금 집계\n",
    "pdf3 = pd.pivot_table(df,\n",
    "                      index = ['class', 'sex'],\n",
    "                      columns = 'survived',\n",
    "                      values = ['age', 'fare'],\n",
    "                      aggfunc = ['mean', 'max'])\n",
    "print(pdf3.head(), '\\n')\n",
    "print(pdf3.index, '\\n') \n",
    "print(pdf3.columns, '\\n')"
   ]
  },
  {
   "cell_type": "markdown",
   "id": "3325803a",
   "metadata": {},
   "source": [
    "## 멀티인덱스에서 특정 인덱스 뽑아내기\n",
    "* xs 인덱서 : 행 선택(axis = 0, 기본값), 열 선택(axis = 1)"
   ]
  },
  {
   "cell_type": "code",
   "execution_count": 25,
   "id": "55e2309f",
   "metadata": {},
   "outputs": [
    {
     "name": "stdout",
     "output_type": "stream",
     "text": [
      " * 레벨 0에서 행 선택\n",
      "               mean                                      max                \\\n",
      "                age                   fare               age          fare   \n",
      "survived          0          1           0           1     0     1       0   \n",
      "sex                                                                          \n",
      "female    25.666667  34.939024  110.604167  105.978159  50.0  63.0  151.55   \n",
      "male      44.581967  36.248000   62.894910   74.637320  71.0  80.0  263.00   \n",
      "\n",
      "                    \n",
      "                    \n",
      "survived         1  \n",
      "sex                 \n",
      "female    512.3292  \n",
      "male      512.3292   \n",
      "\n",
      " * 레벌 0, 1에서 행 선택\n",
      "            survived\n",
      "mean  age   0            25.666667\n",
      "            1            34.939024\n",
      "      fare  0           110.604167\n",
      "            1           105.978159\n",
      "max   age   0            50.000000\n",
      "            1            63.000000\n",
      "      fare  0           151.550000\n",
      "            1           512.329200\n",
      "Name: (First, female), dtype: float64 \n",
      "\n",
      " * 레벨 직접 지정(1)\n",
      "               mean                                    max                \\\n",
      "                age                  fare              age          fare   \n",
      "survived          0          1          0          1     0     1       0   \n",
      "class                                                                      \n",
      "First     44.581967  36.248000  62.894910  74.637320  71.0  80.0  263.00   \n",
      "Second    33.369048  16.022000  19.488965  21.095100  70.0  62.0   73.50   \n",
      "Third     27.255814  22.274211  12.204469  15.579696  74.0  45.0   69.55   \n",
      "\n",
      "                    \n",
      "                    \n",
      "survived         1  \n",
      "class               \n",
      "First     512.3292  \n",
      "Second     39.0000  \n",
      "Third      56.4958   \n",
      "\n",
      " * 레벨 직접 지정(2)\n",
      "                  mean                               max                  \n",
      "                   age               fare            age        fare      \n",
      "survived             0       1          0        1     0     1     0     1\n",
      "class  sex                                                                \n",
      "Second male  33.369048  16.022  19.488965  21.0951  70.0  62.0  73.5  39.0\n"
     ]
    }
   ],
   "source": [
    "# 행 선택 (기본값 : axis = 0)\n",
    "print(' * 레벨 0에서 행 선택')\n",
    "print(pdf3.xs('First'), '\\n')\n",
    "\n",
    "# 행 인덱스 레벨 0에서 First, 레벌 1에서 female 가져오기\n",
    "# 2개의 인덱스 값을 튜플로 전달\n",
    "print(' * 레벌 0, 1에서 행 선택')\n",
    "print(pdf3.xs(('First', 'female')), '\\n')\n",
    "\n",
    "# 행 인덱스 레벨 직접 지정\n",
    "print(' * 레벨 직접 지정(1)')\n",
    "print(pdf3.xs('male', level = 'sex'), '\\n')\n",
    "\n",
    "print(' * 레벨 직접 지정(2)')\n",
    "print(pdf3.xs(('Second', 'male'), level = [0, 1])) # level = ['class', 'sex']와 동일"
   ]
  },
  {
   "cell_type": "code",
   "execution_count": 29,
   "id": "85fd40ac",
   "metadata": {},
   "outputs": [
    {
     "name": "stdout",
     "output_type": "stream",
     "text": [
      "* 열 선택 (1)\n",
      "                     age                   fare            \n",
      "survived               0          1           0           1\n",
      "class  sex                                                 \n",
      "First  female  25.666667  34.939024  110.604167  105.978159\n",
      "       male    44.581967  36.248000   62.894910   74.637320\n",
      "Second female  36.000000  28.080882   18.250000   22.288989\n",
      "       male    33.369048  16.022000   19.488965   21.095100\n",
      "Third  female  23.818182  19.329787   19.773093   12.464526\n",
      "       male    27.255814  22.274211   12.204469   15.579696 \n",
      "\n",
      "* 열 선택 (2)\n",
      "survived               0          1\n",
      "class  sex                         \n",
      "First  female  25.666667  34.939024\n",
      "       male    44.581967  36.248000\n",
      "Second female  36.000000  28.080882\n",
      "       male    33.369048  16.022000\n",
      "Third  female  23.818182  19.329787\n",
      "       male    27.255814  22.274211 \n",
      "\n",
      "* 인덱스 레벨 직접 지정\n",
      "                    mean               max          \n",
      "                     age        fare   age      fare\n",
      "class  sex                                          \n",
      "First  female  34.939024  105.978159  63.0  512.3292\n",
      "       male    36.248000   74.637320  80.0  512.3292\n",
      "Second female  28.080882   22.288989  55.0   65.0000\n",
      "       male    16.022000   21.095100  62.0   39.0000\n",
      "Third  female  19.329787   12.464526  63.0   31.3875\n",
      "       male    22.274211   15.579696  45.0   56.4958 \n",
      "\n"
     ]
    }
   ],
   "source": [
    "# 열 선택(axis = 1)\n",
    "print('* 열 선택 (1)')\n",
    "print(pdf3.xs('mean', axis = 1), '\\n')\n",
    "\n",
    "# 열 인덱스 레벨 0에서 mean 지정, 레벨 1에서 age 지정\n",
    "print('* 열 선택 (2)')\n",
    "print(pdf3.xs(('mean', 'age'), axis = 1), '\\n')\n",
    "\n",
    "# 인덱스 레벨 직접 지정\n",
    "print('* 인덱스 레벨 직접 지정')\n",
    "print(pdf3.xs(1, level = 'survived', axis = 1), '\\n')\n",
    "\n",
    "# 3개의 열 인덱스 모두 지정\n",
    "print('* 3개의 열 인덱스 모두 지정')\n",
    "print(pdf3.xs(('max', 'fare', 0), level = [0, 1, 2], axis = 1))"
   ]
  }
 ],
 "metadata": {
  "kernelspec": {
   "display_name": "Python 3 (ipykernel)",
   "language": "python",
   "name": "python3"
  },
  "language_info": {
   "codemirror_mode": {
    "name": "ipython",
    "version": 3
   },
   "file_extension": ".py",
   "mimetype": "text/x-python",
   "name": "python",
   "nbconvert_exporter": "python",
   "pygments_lexer": "ipython3",
   "version": "3.9.7"
  }
 },
 "nbformat": 4,
 "nbformat_minor": 5
}
