{
 "cells": [
  {
   "cell_type": "markdown",
   "id": "0b3cd118",
   "metadata": {},
   "source": [
    "# 1. 함수 매핑\n",
    "* 함수 매핑 : 시리즈 또는 데이터프레임의 개별 원소를 특정 함수에 일대일 대응시키는 과정"
   ]
  },
  {
   "cell_type": "markdown",
   "id": "bd3db365",
   "metadata": {},
   "source": [
    "## 1-1. 개별 원소에 함수 매핑\n",
    "* 시리즈 원소에 함수 매핑 : Series객체.apply(매핑 함수)\n",
    "* 데이터프레임 원소에 함수 매핑 : DataFrame 객체.applymap(매핑 함수)"
   ]
  },
  {
   "cell_type": "code",
   "execution_count": 3,
   "id": "08f42823",
   "metadata": {},
   "outputs": [
    {
     "name": "stdout",
     "output_type": "stream",
     "text": [
      "    age     fare  ten\n",
      "0  22.0   7.2500   10\n",
      "1  38.0  71.2833   10\n",
      "2  26.0   7.9250   10\n",
      "3  35.0  53.1000   10\n",
      "4  35.0   8.0500   10 \n",
      "\n",
      "0    32.0\n",
      "1    48.0\n",
      "2    36.0\n",
      "3    45.0\n",
      "4    45.0\n",
      "Name: age, dtype: float64 \n",
      "\n",
      "0    32.0\n",
      "1    48.0\n",
      "2    36.0\n",
      "3    45.0\n",
      "4    45.0\n",
      "Name: age, dtype: float64 \n",
      "\n",
      "0    32.0\n",
      "1    48.0\n",
      "2    36.0\n",
      "3    45.0\n",
      "4    45.0\n",
      "Name: age, dtype: float64\n"
     ]
    }
   ],
   "source": [
    "# (1) 시리즈 원소에 함수 매핑\n",
    "# apply() 메소드를 적용하면 시리즈 원소의 개수만큼 리턴값을 받아서 같은 크기의 시리즈 객체로 반환함\n",
    "\n",
    "import seaborn as sns\n",
    "\n",
    "titanic = sns.load_dataset('titanic')\n",
    "df = titanic.loc[:, ['age', 'fare']]\n",
    "df['ten'] = 10\n",
    "print(df.head(), '\\n')\n",
    "\n",
    "# 사용자 함수 정의\n",
    "def add_10(n): # 10을 더하는 함수\n",
    "    return n + 10\n",
    "\n",
    "def add_two_obj(a, b): # 두 객체의 합\n",
    "    return a + b\n",
    "\n",
    "# 시리즈 객체에 적용\n",
    "sr1 = df['age'].apply(add_10)\n",
    "print(sr1.head(), '\\n')\n",
    "\n",
    "# 시리즈 객체와 숫자에 적용\n",
    "sr2 = df['age'].apply(add_two_obj, b = 10)\n",
    "print(sr2.head(), '\\n')\n",
    "\n",
    "# lambda 함수 활용 : 시리즈 객체에 적용\n",
    "sr3 = df['age'].apply(lambda x: x + 10)\n",
    "print(sr3.head())"
   ]
  },
  {
   "cell_type": "code",
   "execution_count": 5,
   "id": "bc268128",
   "metadata": {},
   "outputs": [
    {
     "name": "stdout",
     "output_type": "stream",
     "text": [
      "    age     fare\n",
      "0  22.0   7.2500\n",
      "1  38.0  71.2833\n",
      "2  26.0   7.9250\n",
      "3  35.0  53.1000\n",
      "4  35.0   8.0500 \n",
      "\n",
      "    age     fare\n",
      "0  32.0  17.2500\n",
      "1  48.0  81.2833\n",
      "2  36.0  17.9250\n",
      "3  45.0  63.1000\n",
      "4  45.0  18.0500\n"
     ]
    }
   ],
   "source": [
    "# (2) 데이터프레임 원소에 함수 매핑\n",
    "# applymap() 메소드를 활용하여 원소의 원래 위치에 매핑 함수의 리턴값을 입력하여 동일한 형태의 데이터프레임이 만들어짐\n",
    "\n",
    "import seaborn as sns\n",
    "\n",
    "titanic = sns.load_dataset('titanic')\n",
    "df = titanic.loc[:, ['age', 'fare']]\n",
    "print(df.head(), '\\n')\n",
    "\n",
    "# 사용자 함수 정의\n",
    "def add_10(n):\n",
    "    return n + 10\n",
    "\n",
    "# 데이터프레임에 add_10() 함수를 매핑 적용\n",
    "df_map = df.applymap(add_10)\n",
    "print(df_map.head())"
   ]
  },
  {
   "cell_type": "markdown",
   "id": "60a99ce7",
   "metadata": {},
   "source": [
    "## 1-2. 시리즈 객체에 함수 매핑\n",
    "* 데이터프레임의 각 열에 함수 매핑 : DataFrame 객체.apply(매핑 함수, axis = 0)\n",
    "* 데이터프레임의 각 행에 함수 매핑 : DataFrame 객체.apply(매핑 함수, axis = 1)"
   ]
  },
  {
   "cell_type": "code",
   "execution_count": 10,
   "id": "c96c97ad",
   "metadata": {},
   "outputs": [
    {
     "name": "stdout",
     "output_type": "stream",
     "text": [
      "    age     fare\n",
      "0  22.0   7.2500\n",
      "1  38.0  71.2833\n",
      "2  26.0   7.9250\n",
      "3  35.0  53.1000\n",
      "4  35.0   8.0500 \n",
      "\n",
      "     age   fare\n",
      "0  False  False\n",
      "1  False  False\n",
      "2  False  False\n",
      "3  False  False\n",
      "4  False  False \n",
      "\n"
     ]
    }
   ],
   "source": [
    "# (1) 데이터프레임의 각 열에 함수 매핑 (=> 열 내에서 !)\n",
    "# apply() 메소드를 적용하면 모든 열을 하나씩 분리하여 매핑 함수의 인자로 각 열(시리즈)이 전달\n",
    "# 매핑 함수에 따라 반환되는 객체의 종류가 다름\n",
    "\n",
    "import seaborn as sns\n",
    "\n",
    "titanic = sns.load_dataset('titanic')\n",
    "df = titanic.loc[:, ['age', 'fare']]\n",
    "print(df.head(), '\\n')\n",
    "\n",
    "# 데이터프레임에 apply 메소드를 적용\n",
    "result = df.apply(lambda x: x.isnull())\n",
    "print(result.head(), '\\n')\n",
    "\n",
    "# 이 때 "
   ]
  },
  {
   "cell_type": "markdown",
   "id": "6ee912e3",
   "metadata": {},
   "source": [
    "이 때 isnull() 함수를 앞에서 배운 데이터프레임의 각 원소에 함수를 매핑하는 applymap()을 사용하면 안되나 ?<br>\n",
    "=> isnull() 함수는 시리즈 객체에서 누락 데이터를 찾고 그 결과를 불린 시리즈 형태로 반환하는 함수<br>\n",
    "=> 따라서, 입력 자체를 시리즈로 받기 때문에 applymap()을 사용할 수 없음"
   ]
  },
  {
   "cell_type": "code",
   "execution_count": 11,
   "id": "bfc1e944",
   "metadata": {},
   "outputs": [
    {
     "name": "stdout",
     "output_type": "stream",
     "text": [
      "    age     fare\n",
      "0  22.0   7.2500\n",
      "1  38.0  71.2833\n",
      "2  26.0   7.9250\n",
      "3  35.0  53.1000\n",
      "4  35.0   8.0500 \n",
      "\n",
      "age      79.5800\n",
      "fare    512.3292\n",
      "dtype: float64 \n",
      "\n"
     ]
    }
   ],
   "source": [
    "import seaborn as sns\n",
    "\n",
    "titanic = sns.load_dataset('titanic')\n",
    "df = titanic.loc[:, ['age', 'fare']]\n",
    "print(df.head(), '\\n')\n",
    "\n",
    "# 데이터프레임에 apply 메소드를 적용하여 최대값과 최소값의 차이를 계산\n",
    "result = df.apply(lambda x: x.max() - x.min())\n",
    "print(result, '\\n')"
   ]
  },
  {
   "cell_type": "code",
   "execution_count": 15,
   "id": "ed7eaee6",
   "metadata": {},
   "outputs": [
    {
     "name": "stdout",
     "output_type": "stream",
     "text": [
      "    age     fare  ten\n",
      "0  22.0   7.2500   10\n",
      "1  38.0  71.2833   10\n",
      "2  26.0   7.9250   10\n",
      "3  35.0  53.1000   10\n",
      "4  35.0   8.0500   10 \n",
      "\n",
      "0     29.2500\n",
      "1    109.2833\n",
      "2     33.9250\n",
      "3     88.1000\n",
      "4     43.0500\n",
      "dtype: float64\n"
     ]
    }
   ],
   "source": [
    "# (2) 데이터프레임의 각 행에 함수 매핑 (=> 행 내에서 !)\n",
    "# apply() 메소드를 적용하면 데이터프레임의 각 행을 매핑함수의 인자로 전달\n",
    "\n",
    "import seaborn as sns\n",
    "\n",
    "titanic = sns.load_dataset('titanic')\n",
    "df = titanic.loc[:, ['age', 'fare']]\n",
    "df['ten'] = 10\n",
    "print(df.head(), '\\n')\n",
    "\n",
    "# 데이터프레임의 2개 열에 적용\n",
    "result = df.apply(lambda x: x['age'] + x['fare'], axis = 1)\n",
    "print(result.head())"
   ]
  },
  {
   "cell_type": "markdown",
   "id": "c9e7713b",
   "metadata": {},
   "source": [
    "## 1-3. 데이터프레임 객체에 함수 매핑\n",
    "* 데이터프레임 객체에 함수 매핑 : DataFrame 객체.pipe(매핑 함수)"
   ]
  },
  {
   "cell_type": "markdown",
   "id": "3d04a776",
   "metadata": {},
   "source": [
    "## ■ apply() 실습"
   ]
  },
  {
   "cell_type": "code",
   "execution_count": 22,
   "id": "d28a0ec4",
   "metadata": {},
   "outputs": [
    {
     "name": "stdout",
     "output_type": "stream",
     "text": [
      "count     6.000000\n",
      "mean     36.000000\n",
      "std       9.316652\n",
      "min      26.000000\n",
      "25%      29.750000\n",
      "50%      33.000000\n",
      "75%      43.750000\n",
      "max      48.000000\n",
      "Name: 나이, dtype: float64\n"
     ]
    },
    {
     "data": {
      "text/html": [
       "<div>\n",
       "<style scoped>\n",
       "    .dataframe tbody tr th:only-of-type {\n",
       "        vertical-align: middle;\n",
       "    }\n",
       "\n",
       "    .dataframe tbody tr th {\n",
       "        vertical-align: top;\n",
       "    }\n",
       "\n",
       "    .dataframe thead th {\n",
       "        text-align: right;\n",
       "    }\n",
       "</style>\n",
       "<table border=\"1\" class=\"dataframe\">\n",
       "  <thead>\n",
       "    <tr style=\"text-align: right;\">\n",
       "      <th></th>\n",
       "      <th>성별</th>\n",
       "      <th>나이</th>\n",
       "      <th>음주횟수</th>\n",
       "      <th>직업분류</th>\n",
       "      <th>분류1</th>\n",
       "      <th>분류2</th>\n",
       "    </tr>\n",
       "  </thead>\n",
       "  <tbody>\n",
       "    <tr>\n",
       "      <th>0</th>\n",
       "      <td>남자</td>\n",
       "      <td>47</td>\n",
       "      <td>2</td>\n",
       "      <td>사무직</td>\n",
       "      <td>40대</td>\n",
       "      <td>40남</td>\n",
       "    </tr>\n",
       "    <tr>\n",
       "      <th>1</th>\n",
       "      <td>남자</td>\n",
       "      <td>32</td>\n",
       "      <td>2</td>\n",
       "      <td>생산직</td>\n",
       "      <td>30대</td>\n",
       "      <td>30남</td>\n",
       "    </tr>\n",
       "    <tr>\n",
       "      <th>2</th>\n",
       "      <td>여자</td>\n",
       "      <td>34</td>\n",
       "      <td>6</td>\n",
       "      <td>영업직</td>\n",
       "      <td>30대</td>\n",
       "      <td>30여</td>\n",
       "    </tr>\n",
       "    <tr>\n",
       "      <th>3</th>\n",
       "      <td>남자</td>\n",
       "      <td>48</td>\n",
       "      <td>6</td>\n",
       "      <td>영업직</td>\n",
       "      <td>40대</td>\n",
       "      <td>40남</td>\n",
       "    </tr>\n",
       "    <tr>\n",
       "      <th>4</th>\n",
       "      <td>여자</td>\n",
       "      <td>29</td>\n",
       "      <td>2</td>\n",
       "      <td>생산직</td>\n",
       "      <td>20대</td>\n",
       "      <td>20여</td>\n",
       "    </tr>\n",
       "    <tr>\n",
       "      <th>5</th>\n",
       "      <td>여자</td>\n",
       "      <td>26</td>\n",
       "      <td>0</td>\n",
       "      <td>사무직</td>\n",
       "      <td>20대</td>\n",
       "      <td>20여</td>\n",
       "    </tr>\n",
       "  </tbody>\n",
       "</table>\n",
       "</div>"
      ],
      "text/plain": [
       "   성별  나이  음주횟수 직업분류  분류1  분류2\n",
       "0  남자  47     2  사무직  40대  40남\n",
       "1  남자  32     2  생산직  30대  30남\n",
       "2  여자  34     6  영업직  30대  30여\n",
       "3  남자  48     6  영업직  40대  40남\n",
       "4  여자  29     2  생산직  20대  20여\n",
       "5  여자  26     0  사무직  20대  20여"
      ]
     },
     "execution_count": 22,
     "metadata": {},
     "output_type": "execute_result"
    }
   ],
   "source": [
    "import pandas as pd\n",
    "\n",
    "df = pd.DataFrame({'성별':['남자', '남자', '여자', '남자', '여자', '여자'],\n",
    "                   '나이':[47, 32, 34, 48, 29, 26],\n",
    "                   '음주횟수':[2, 2, 6, 6, 2, 0],\n",
    "                   '직업분류':['사무직', '생산직', '영업직', '영업직', '생산직', '사무직']})\n",
    "\n",
    "# 1. df에 나이대를 나타내는 '분류1'이라는 변수를 생성하라.\n",
    "\n",
    "# 방법1\n",
    "print(df['나이'].describe())\n",
    "\n",
    "def age(x):\n",
    "    if x >= 40:\n",
    "        return '40대'\n",
    "    elif x >= 30:\n",
    "        return '30대'\n",
    "    elif x >= 20:\n",
    "        return '20대'\n",
    "    \n",
    "df['분류1'] = df.나이.apply(lambda x: age(x))\n",
    "\n",
    "# 방법2\n",
    "df['분류1'] = df.나이.apply(lambda x: str(x // 10 * 10) + '대')\n",
    "\n",
    "\n",
    "\n",
    "# 2. df에 나이와 성별을 동시에 나타내는 '분류2'이라는 변수를 생성하라.\n",
    "\n",
    "# 방법1\n",
    "df['분류2'] = df.apply(lambda x: x['분류1'][0:2] + x['성별'][0], axis = 1)\n",
    "\n",
    "# 방법 2\n",
    "df['분류2'] = df.apply(lambda x: str(x['나이'] // 10 * 10) + x['성별'][0], axis = 1)\n",
    "\n",
    "df"
   ]
  },
  {
   "cell_type": "markdown",
   "id": "b7c00cd0",
   "metadata": {},
   "source": [
    "# 2. 열 재구성\n",
    "* 열 순서 변경 : DataFrame 객체[재구성한 열 이름의 리스트]\n",
    "* 열 분리 / 문자열 리스트 인덱싱 : Series 객체.str.split() / Series 객체.str.get(인덱스)"
   ]
  },
  {
   "cell_type": "markdown",
   "id": "eab3df55",
   "metadata": {},
   "source": [
    "## 2-1. 열 순서 변경"
   ]
  },
  {
   "cell_type": "code",
   "execution_count": 53,
   "id": "f0f10584",
   "metadata": {},
   "outputs": [
    {
     "name": "stdout",
     "output_type": "stream",
     "text": [
      "   survived  pclass     sex   age\n",
      "0         0       3    male  22.0\n",
      "1         1       1  female  38.0\n",
      "2         1       3  female  26.0\n",
      "3         1       1  female  35.0\n",
      "4         0       3    male  35.0 \n",
      "\n",
      "['survived' 'pclass' 'sex' 'age'] \n",
      "\n",
      "    age  pclass     sex  survived\n",
      "0  22.0       3    male         0\n",
      "1  38.0       1  female         1\n",
      "2  26.0       3  female         1\n",
      "3  35.0       1  female         1\n",
      "4  35.0       3    male         0 \n",
      "\n",
      "   survived     sex  pclass   age\n",
      "0         0    male       3  22.0\n",
      "1         1  female       1  38.0\n",
      "2         1  female       3  26.0\n",
      "3         1  female       1  35.0\n",
      "4         0    male       3  35.0 \n",
      "\n",
      "   pclass   age  survived     sex\n",
      "0       3  22.0         0    male\n",
      "1       1  38.0         1  female\n",
      "2       3  26.0         1  female\n",
      "3       1  35.0         1  female\n",
      "4       3  35.0         0    male \n",
      "\n"
     ]
    }
   ],
   "source": [
    "import seaborn as sns\n",
    "\n",
    "titanic = sns.load_dataset('titanic')\n",
    "df = titanic.loc[0:4, 'survived':'age'] # 파이썬 리스트 슬라이싱과 다르게 마지막 범위의 값이 포함됨\n",
    "print(df, '\\n')\n",
    "\n",
    "# 열 이름 리스트 만들기\n",
    "columns = df.columns.values\n",
    "print(columns, '\\n')\n",
    "\n",
    "# 알파벳 순서로 열 정렬\n",
    "list_columns = sorted(columns)\n",
    "df_sorted = df[list_columns]\n",
    "print(df_sorted, '\\n')\n",
    "\n",
    "# 알파벳 역순서로 열 정렬\n",
    "reversed_columns = reversed(list_columns)\n",
    "df_reversed = df[reversed_columns]\n",
    "print(df_reversed, '\\n')\n",
    "\n",
    "# 열 이름을 사용자가 정의한 임의의 순서로 배치\n",
    "df_customed = df[['pclass', 'age', 'survived', 'sex']]\n",
    "print(df_customed, '\\n')"
   ]
  },
  {
   "cell_type": "markdown",
   "id": "954a27b6",
   "metadata": {},
   "source": [
    "## 2-2. 열 분리"
   ]
  },
  {
   "cell_type": "code",
   "execution_count": 57,
   "id": "d94e59ef",
   "metadata": {},
   "outputs": [
    {
     "name": "stdout",
     "output_type": "stream",
     "text": [
      "         연월일   당일종가  전일종가     시가     고가     저가     거래량\n",
      "0 2018-07-02  10100   600  10850  10900  10000  137977\n",
      "1 2018-06-29  10700   300  10550  10900   9990  170253\n",
      "2 2018-06-28  10400   500  10900  10950  10150  155769\n",
      "3 2018-06-27  10900   100  10800  11050  10500  133548\n",
      "4 2018-06-26  10800   350  10900  11000  10700   63039 \n",
      "\n",
      "연월일     datetime64[ns]\n",
      "당일종가             int64\n",
      "전일종가             int64\n",
      "시가               int64\n",
      "고가               int64\n",
      "저가               int64\n",
      "거래량              int64\n",
      "dtype: object \n",
      "\n",
      "0    [2018, 07, 02]\n",
      "1    [2018, 06, 29]\n",
      "2    [2018, 06, 28]\n",
      "3    [2018, 06, 27]\n",
      "4    [2018, 06, 26]\n",
      "Name: 연월일, dtype: object \n",
      "\n",
      "          연월일   당일종가  전일종가     시가     고가     저가     거래량     연   월   일\n",
      "0  2018-07-02  10100   600  10850  10900  10000  137977  2018  07  02\n",
      "1  2018-06-29  10700   300  10550  10900   9990  170253  2018  06  29\n",
      "2  2018-06-28  10400   500  10900  10950  10150  155769  2018  06  28\n",
      "3  2018-06-27  10900   100  10800  11050  10500  133548  2018  06  27\n",
      "4  2018-06-26  10800   350  10900  11000  10700   63039  2018  06  26\n"
     ]
    }
   ],
   "source": [
    "import pandas as pd\n",
    "\n",
    "df = pd.read_excel('./주가데이터.xlsx', engine = 'openpyxl')\n",
    "print(df.head(), '\\n')\n",
    "print(df.dtypes, '\\n') # '연월일' 열의 자료형이 datetime64\n",
    "\n",
    "# 연, 월, 일 데이터 분리하기\n",
    "df['연월일'] = df['연월일'].astype('str') # '연월일' 열의 자료형을 str로 변환\n",
    "dates = df['연월일'].str.split('-')\n",
    "print(dates.head(), '\\n')\n",
    "\n",
    "# 분리된 정보를 각각 새로운 열에 담아 df에 추가하기\n",
    "df['연'] = dates.str.get(0)\n",
    "df['월'] = dates.str.get(1)\n",
    "df['일'] = dates.str.get(2)\n",
    "print(df.head())"
   ]
  },
  {
   "cell_type": "markdown",
   "id": "0a2ef64f",
   "metadata": {},
   "source": [
    "### 앞에서 다루었던 시계열 데이터와 비교해본다면 ?"
   ]
  },
  {
   "cell_type": "code",
   "execution_count": 59,
   "id": "edd90ad5",
   "metadata": {},
   "outputs": [
    {
     "name": "stdout",
     "output_type": "stream",
     "text": [
      "         연월일   당일종가  전일종가     시가     고가     저가     거래량\n",
      "0 2018-07-02  10100   600  10850  10900  10000  137977\n",
      "1 2018-06-29  10700   300  10550  10900   9990  170253\n",
      "2 2018-06-28  10400   500  10900  10950  10150  155769\n",
      "3 2018-06-27  10900   100  10800  11050  10500  133548\n",
      "4 2018-06-26  10800   350  10900  11000  10700   63039 \n",
      "\n",
      "연월일     datetime64[ns]\n",
      "당일종가             int64\n",
      "전일종가             int64\n",
      "시가               int64\n",
      "고가               int64\n",
      "저가               int64\n",
      "거래량              int64\n",
      "dtype: object \n",
      "\n",
      "         연월일   당일종가  전일종가     시가     고가     저가     거래량     년  월   일\n",
      "0 2018-07-02  10100   600  10850  10900  10000  137977  2018  7   2\n",
      "1 2018-06-29  10700   300  10550  10900   9990  170253  2018  6  29\n",
      "2 2018-06-28  10400   500  10900  10950  10150  155769  2018  6  28\n",
      "3 2018-06-27  10900   100  10800  11050  10500  133548  2018  6  27\n",
      "4 2018-06-26  10800   350  10900  11000  10700   63039  2018  6  26\n"
     ]
    }
   ],
   "source": [
    "import pandas as pd\n",
    "\n",
    "df = pd.read_excel('./주가데이터.xlsx', engine = 'openpyxl')\n",
    "print(df.head(), '\\n')\n",
    "print(df.dtypes, '\\n') # '연월일' 열의 자료형이 datetime64\n",
    "\n",
    "df['년'] = df['연월일'].dt.year\n",
    "df['월'] = df['연월일'].dt.month\n",
    "df['일'] = df['연월일'].dt.day\n",
    "print(df.head())"
   ]
  },
  {
   "cell_type": "markdown",
   "id": "6d2c4071",
   "metadata": {},
   "source": [
    "# 3. 필터링\n",
    "* 불린 인덱싱 : DataFrame 객체[불린 시리즈]\n",
    "* isin() 메소드 활용 : DataFrame의 열 객체.isin(추출 값의 리스트)"
   ]
  },
  {
   "cell_type": "markdown",
   "id": "f60123ee",
   "metadata": {},
   "source": [
    "## 3-1. 불린 인덱싱\n",
    "많은 데이터 중에서 어떤 조건을 만족하는 데이터만을 추출하는 필터링 기법의 한 유형"
   ]
  },
  {
   "cell_type": "code",
   "execution_count": 6,
   "id": "09fe9401",
   "metadata": {},
   "outputs": [
    {
     "name": "stdout",
     "output_type": "stream",
     "text": [
      "* df_teenage\n",
      "    survived  pclass     sex   age  sibsp  parch      fare embarked   class  \\\n",
      "9          1       2  female  14.0      1      0   30.0708        C  Second   \n",
      "14         0       3  female  14.0      0      0    7.8542        S   Third   \n",
      "22         1       3  female  15.0      0      0    8.0292        Q   Third   \n",
      "27         0       1    male  19.0      3      2  263.0000        S   First   \n",
      "38         0       3  female  18.0      2      0   18.0000        S   Third   \n",
      "\n",
      "      who  adult_male deck  embark_town alive  alone  \n",
      "9   child       False  NaN    Cherbourg   yes  False  \n",
      "14  child       False  NaN  Southampton    no   True  \n",
      "22  child       False  NaN   Queenstown   yes   True  \n",
      "27    man        True    C  Southampton    no  False  \n",
      "38  woman       False  NaN  Southampton    no  False   \n",
      "\n",
      "* df_female_under10\n",
      "     survived  pclass     sex  age  sibsp  parch     fare embarked   class  \\\n",
      "10          1       3  female  4.0      1      1  16.7000        S   Third   \n",
      "24          0       3  female  8.0      3      1  21.0750        S   Third   \n",
      "43          1       2  female  3.0      1      2  41.5792        C  Second   \n",
      "58          1       2  female  5.0      1      2  27.7500        S  Second   \n",
      "119         0       3  female  2.0      4      2  31.2750        S   Third   \n",
      "\n",
      "       who  adult_male deck  embark_town alive  alone  \n",
      "10   child       False    G  Southampton   yes  False  \n",
      "24   child       False  NaN  Southampton    no  False  \n",
      "43   child       False  NaN    Cherbourg   yes  False  \n",
      "58   child       False  NaN  Southampton   yes  False  \n",
      "119  child       False  NaN  Southampton    no  False   \n",
      "\n",
      "* df_under10_morethan60\n",
      "     age     sex  alone\n",
      "7    2.0    male  False\n",
      "10   4.0  female  False\n",
      "16   2.0    male  False\n",
      "24   8.0  female  False\n",
      "33  66.0    male   True\n"
     ]
    }
   ],
   "source": [
    "import seaborn as sns\n",
    "\n",
    "titanic = sns.load_dataset('titanic')\n",
    "\n",
    "# 나이가 10대인 승객만 따로 선택\n",
    "mask1 = (titanic['age'] >= 10) & (titanic['age'] <= 19)\n",
    "df_teenage = titanic.loc[mask1, :]\n",
    "print('* df_teenage')\n",
    "print(df_teenage.head(), '\\n')\n",
    "\n",
    "# 나이가 10세 미만(0~9세)이고 여성인 승객만 따로 선택\n",
    "mask2 = (titanic['age'] < 10) & (titanic['sex'] == 'female')\n",
    "df_female_under10 = titanic.loc[mask2, :]\n",
    "print('* df_female_under10')\n",
    "print(df_female_under10.head(), '\\n')\n",
    "\n",
    "# 나이가 10세 미만(0~9세) 또는 60세 이상인 승객의 age, sex, alone 열만 선택\n",
    "mask3 = (titanic['age'] < 10) | (titanic['age'] >= 60)\n",
    "df_under10_morethan60 = titanic.loc[mask3, ['age', 'sex', 'alone']]\n",
    "print('* df_under10_morethan60')\n",
    "print(df_under10_morethan60.head())"
   ]
  },
  {
   "cell_type": "markdown",
   "id": "ffff66a5",
   "metadata": {},
   "source": [
    "## 3-2. isin() 메소드 활용\n",
    "데이터프레임의 열에 isin() 메소드를 적용하면 특정 값을 가진 행들을 따로 추출 가능"
   ]
  },
  {
   "cell_type": "code",
   "execution_count": 10,
   "id": "f3d4e732",
   "metadata": {},
   "outputs": [
    {
     "name": "stdout",
     "output_type": "stream",
     "text": [
      "    survived  pclass     sex   age  sibsp  ...  adult_male  deck  embark_town  \\\n",
      "7          0       3    male   2.0      3  ...       False   NaN  Southampton   \n",
      "16         0       3    male   2.0      4  ...       False   NaN   Queenstown   \n",
      "24         0       3  female   8.0      3  ...       False   NaN  Southampton   \n",
      "27         0       1    male  19.0      3  ...        True     C  Southampton   \n",
      "50         0       3    male   7.0      4  ...       False   NaN  Southampton   \n",
      "\n",
      "   alive  alone  \n",
      "7     no  False  \n",
      "16    no  False  \n",
      "24    no  False  \n",
      "27    no  False  \n",
      "50    no  False  \n",
      "\n",
      "[5 rows x 15 columns] \n",
      "\n",
      "    survived  pclass     sex   age  sibsp  ...  adult_male  deck  embark_town  \\\n",
      "7          0       3    male   2.0      3  ...       False   NaN  Southampton   \n",
      "16         0       3    male   2.0      4  ...       False   NaN   Queenstown   \n",
      "24         0       3  female   8.0      3  ...       False   NaN  Southampton   \n",
      "27         0       1    male  19.0      3  ...        True     C  Southampton   \n",
      "50         0       3    male   7.0      4  ...       False   NaN  Southampton   \n",
      "\n",
      "   alive  alone  \n",
      "7     no  False  \n",
      "16    no  False  \n",
      "24    no  False  \n",
      "27    no  False  \n",
      "50    no  False  \n",
      "\n",
      "[5 rows x 15 columns]\n"
     ]
    }
   ],
   "source": [
    "# titanic 데이터셋의 sibsp 열의 값이 3, 4, 5 중 하나인 행들을 추출\n",
    "# 불린인덱싱과 isin() 메소드 활용을 비교\n",
    "\n",
    "\n",
    "# 불린 인덱싱\n",
    "import seaborn as sns\n",
    "import pandas as pd\n",
    "\n",
    "titanic = sns.load_dataset('titanic')\n",
    "\n",
    "# IPython 디스플레이 설정 변경 - 출력할 최대 열의 개수\n",
    "pd.set_option('display.max_columns', 10)\n",
    "\n",
    "# 함께 탑승한 형제 또는 배우자가 3, 4, 5인 승객만 따로 추출 - 불린 인덱싱\n",
    "mask3 = titanic['sibsp'] == 3\n",
    "mask4 = titanic['sibsp'] == 4\n",
    "mask5 = titanic['sibsp'] == 5\n",
    "df_boolean = titanic[mask3 | mask4 | mask5]\n",
    "print(df_boolean.head(), '\\n')\n",
    "\n",
    "\n",
    "# isin() 메소드 활용\n",
    "isin_filter = titanic['sibsp'].isin([3, 4, 5])\n",
    "df_isin = titanic[isin_filter]\n",
    "print(df_isin.head())"
   ]
  },
  {
   "cell_type": "markdown",
   "id": "8c529278",
   "metadata": {},
   "source": [
    "# 4. 데이터프레임 합치기\n",
    "* 데이터프레임 연결 : pandas.concat(데이터프레임 리스트) => 행 또는 열 중 어느 한 방향\n",
    "* 데이터프레임 병합 : pandas.merge(df.left, df.right, how = 'inner', on = None) => SQL의 join 명령과 비슷\n",
    "* 데이터프레임 결합 : DataFrmae.join(DataFrame2, how = 'left') => merge와 비슷, but 행 인덱스 기준으로 결합"
   ]
  },
  {
   "cell_type": "markdown",
   "id": "bec56e06",
   "metadata": {},
   "source": [
    "## 4-1. 데이터프레임 연걸\n",
    "축 방향을 지정하지 않으면 기본 옵션(axis = 0)이 적용되어 위 아래 행 방향으로 연결됨<br>\n",
    "이 때 각 데이터프레임의 행 인덱스는 본래 형태를 유지<br>\n",
    "옵션으로 join = 'outer' (합집합), join = 'inner' (교집합)를 사용 가능"
   ]
  },
  {
   "cell_type": "code",
   "execution_count": 20,
   "id": "10121558",
   "metadata": {},
   "outputs": [
    {
     "name": "stdout",
     "output_type": "stream",
     "text": [
      "    a   b   c\n",
      "0  a0  b0  c0\n",
      "1  a1  b1  c1\n",
      "2  a2  b2  c2\n",
      "3  a3  b3  c3 \n",
      "\n",
      "    a   b   c   d\n",
      "2  a2  b2  c2  d2\n",
      "3  a3  b3  c3  d3\n",
      "4  a4  b4  c4  d4\n",
      "5  a5  b5  c5  d5 \n",
      "\n",
      "    a   b   c    d\n",
      "0  a0  b0  c0  NaN\n",
      "1  a1  b1  c1  NaN\n",
      "2  a2  b2  c2  NaN\n",
      "3  a3  b3  c3  NaN\n",
      "2  a2  b2  c2   d2\n",
      "3  a3  b3  c3   d3\n",
      "4  a4  b4  c4   d4\n",
      "5  a5  b5  c5   d5 \n",
      "\n",
      "    a   b   c    d\n",
      "0  a0  b0  c0  NaN\n",
      "1  a1  b1  c1  NaN\n",
      "2  a2  b2  c2  NaN\n",
      "3  a3  b3  c3  NaN\n",
      "4  a2  b2  c2   d2\n",
      "5  a3  b3  c3   d3\n",
      "6  a4  b4  c4   d4\n",
      "7  a5  b5  c5   d5 \n",
      "\n",
      "     a    b    c    a    b    c    d\n",
      "0   a0   b0   c0  NaN  NaN  NaN  NaN\n",
      "1   a1   b1   c1  NaN  NaN  NaN  NaN\n",
      "2   a2   b2   c2   a2   b2   c2   d2\n",
      "3   a3   b3   c3   a3   b3   c3   d3\n",
      "4  NaN  NaN  NaN   a4   b4   c4   d4\n",
      "5  NaN  NaN  NaN   a5   b5   c5   d5 \n",
      "\n",
      "    a   b   c   a   b   c   d\n",
      "2  a2  b2  c2  a2  b2  c2  d2\n",
      "3  a3  b3  c3  a3  b3  c3  d3\n"
     ]
    }
   ],
   "source": [
    "import pandas as pd\n",
    "\n",
    "# 데이터프레임 만들기\n",
    "df1 = pd.DataFrame({'a':['a0', 'a1', 'a2', 'a3'],\n",
    "                    'b':['b0', 'b1', 'b2', 'b3'],\n",
    "                    'c':['c0', 'c1', 'c2', 'c3']},\n",
    "                    index = [0, 1, 2, 3])\n",
    "\n",
    "df2 = pd.DataFrame({'a':['a2', 'a3', 'a4', 'a5'],\n",
    "                    'b':['b2', 'b3', 'b4', 'b5'],\n",
    "                    'c':['c2', 'c3', 'c4', 'c5'],\n",
    "                    'd':['d2', 'd3', 'd4', 'd5']},\n",
    "                    index = [2, 3, 4, 5])\n",
    "\n",
    "print(df1, '\\n')\n",
    "print(df2, '\\n')\n",
    "\n",
    "# 2개의 데이터프레임을 위 아래 행 방향으로 이어 붙이듯 연결하기\n",
    "result1 = pd.concat([df1, df2])\n",
    "print(result1, '\\n')\n",
    "\n",
    "# ignore_index = True 옵션 설정하기\n",
    "result2 = pd.concat([df1, df2], ignore_index = True) # 정수형 위치 인덱스가 새롭게 설정 (0~7 범위)\n",
    "print(result2, '\\n')\n",
    "\n",
    "# 2개의 데이터프레임을 좌우 열 방향으로 이어 붙이듯 연결하기\n",
    "result3 = pd.concat([df1, df2], axis = 1)\n",
    "print(result3, '\\n')\n",
    "\n",
    "# join = 'inner 옵션 설정'\n",
    "# 공통으로 존재하는 데이터만을 반환\n",
    "result3_in = pd.concat([df1, df2], axis = 1,join = 'inner')\n",
    "print(result3_in)"
   ]
  },
  {
   "cell_type": "code",
   "execution_count": 24,
   "id": "d5bc7e68",
   "metadata": {
    "scrolled": true
   },
   "outputs": [
    {
     "name": "stdout",
     "output_type": "stream",
     "text": [
      "    a   b   c   e\n",
      "0  a0  b0  c0  e0\n",
      "1  a1  b1  c1  e1\n",
      "2  a2  b2  c2  e2\n",
      "3  a3  b3  c3  e3 \n",
      "\n",
      "    a   b   c   d    f\n",
      "2  a2  b2  c2  d2  NaN\n",
      "3  a3  b3  c3  d3   f0\n",
      "4  a4  b4  c4  d4   f1\n",
      "5  a5  b5  c5  d5   f2 \n",
      "\n",
      "    e   g\n",
      "0  e0  g0\n",
      "1  e1  g1\n",
      "2  e2  g2\n",
      "3  e3  g3 \n",
      "\n",
      "0    e0\n",
      "1    e1\n",
      "2    e2\n",
      "3    e3\n",
      "0    g0\n",
      "1    g1\n",
      "2    g2\n",
      "3    g3\n",
      "dtype: object\n"
     ]
    }
   ],
   "source": [
    "# 데이터프레임과 시리즈, 시리즈와 시리즈를 연결\n",
    "\n",
    "# 시리즈 만들기\n",
    "sr1 = pd.Series(['e0', 'e1', 'e2', 'e3'], name = 'e')\n",
    "sr2 = pd.Series(['f0', 'f1', 'f2'], name = 'f', index = [3, 4, 5])\n",
    "sr3 = pd.Series(['g0', 'g1', 'g2', 'g3'], name = 'g')\n",
    "\n",
    "# df1과 sr1을 좌우 열 방향으로 연결하기\n",
    "result4 = pd.concat([df1, sr1], axis = 1)\n",
    "print(result4, '\\n')\n",
    "\n",
    "# df2와 sr2을 좌우 열 방향으로 연결하기\n",
    "result5 = pd.concat([df2, sr2], axis = 1, sort = True)\n",
    "print(result5, '\\n')\n",
    "\n",
    "# sr1과 sr3을 좌우 열 방향으로 연결하기\n",
    "result6 = pd.concat([sr1, sr3], axis = 1)\n",
    "print(result6, '\\n')\n",
    "\n",
    "result7 = pd.concat([sr1, sr3], axis = 0)\n",
    "print(result7)"
   ]
  },
  {
   "cell_type": "markdown",
   "id": "011b6cb6",
   "metadata": {},
   "source": [
    "## 4-2. 데이터프레임 병합\n",
    "merge 함수는 SQL의 join 명령과 비슷한 방식으로 어떤 기준에 의해 두 데이터프레임을 병합하는 개념<br>\n",
    "이 때 기준이 되는 열이나 인덱스를 키(key)라고 부름<br>\n",
    "키가 되는 열이나 인덱스는 반드시 양쪽 데이터프레임에 모두 존재해야 함"
   ]
  },
  {
   "cell_type": "code",
   "execution_count": 27,
   "id": "b76e838f",
   "metadata": {},
   "outputs": [
    {
     "name": "stdout",
     "output_type": "stream",
     "text": [
      "       id    stock_name          value   price\n",
      "0  128940      한미약품   59385.666667  421000\n",
      "1  130960        CJ E&M   58540.666667   98900\n",
      "2  138250    엔에스쇼핑   14558.666667   13200\n",
      "3  139480        이마트  239230.833333  254500\n",
      "4  142280  녹십자엠에스     468.833333   10200\n",
      "5  145990        삼양사   82750.000000   82000\n",
      "6  185750        종근당   40293.666667  100500\n",
      "7  192400    쿠쿠홀딩스  179204.666667  177500\n",
      "8  199800          툴젠   -2514.333333  115400\n",
      "9  204210  모두투어리츠    3093.333333    3475 \n",
      "\n",
      "       id              name           eps     bps        per       pbr\n",
      "0  130960            CJ E&M   6301.333333   54068  15.695091  1.829178\n",
      "1  136480              하림    274.166667    3551  11.489362  0.887074\n",
      "2  138040    메리츠금융지주   2122.333333   14894   6.313806  0.899691\n",
      "3  139480            이마트  18268.166667  295780  13.931338  0.860437\n",
      "4  145990            삼양사   5741.000000  108090  14.283226  0.758627\n",
      "5  161390        한국타이어   5648.500000   51341   7.453306  0.820007\n",
      "6  181710   NHN엔터테인먼트   2110.166667   78434  30.755864  0.827447\n",
      "7  185750            종근당   3990.333333   40684  25.185866  2.470259\n",
      "8  204210      모두투어리츠     85.166667    5335  40.802348  0.651359\n",
      "9  207940  삼성바이오로직스   4644.166667   60099  89.790059  6.938551\n"
     ]
    }
   ],
   "source": [
    "import pandas as pd\n",
    "\n",
    "# IPython 디스플레이 설정 변경\n",
    "pd.set_option('display.max_columns', 10) # 출력할 최대 열의 개수\n",
    "pd.set_option('display.max_colwidth', 20) # 출력할 열의 너비\n",
    "pd.set_option('display.unicode.east_asian_width', True) # 유니코드 사용 너비 조정\n",
    "\n",
    "# 데이터프레임 변환\n",
    "df1 = pd.read_excel('./stock price.xlsx', engine = 'openpyxl')\n",
    "df2 = pd.read_excel('./stock valuation.xlsx', engine = 'openpyxl')\n",
    "\n",
    "print(df1, '\\n')\n",
    "print(df2)"
   ]
  },
  {
   "cell_type": "code",
   "execution_count": 28,
   "id": "bbcc69f0",
   "metadata": {},
   "outputs": [
    {
     "name": "stdout",
     "output_type": "stream",
     "text": [
      "       id    stock_name          value   price          name           eps  \\\n",
      "0  130960        CJ E&M   58540.666667   98900        CJ E&M   6301.333333   \n",
      "1  139480        이마트  239230.833333  254500        이마트  18268.166667   \n",
      "2  145990        삼양사   82750.000000   82000        삼양사   5741.000000   \n",
      "3  185750        종근당   40293.666667  100500        종근당   3990.333333   \n",
      "4  204210  모두투어리츠    3093.333333    3475  모두투어리츠     85.166667   \n",
      "\n",
      "      bps        per       pbr  \n",
      "0   54068  15.695091  1.829178  \n",
      "1  295780  13.931338  0.860437  \n",
      "2  108090  14.283226  0.758627  \n",
      "3   40684  25.185866  2.470259  \n",
      "4    5335  40.802348  0.651359  \n"
     ]
    }
   ],
   "source": [
    "# 데이터프레임 합치기 - (디폴트) 교집합, 공통으로 속하는 모든 열을 기준으로 병합\n",
    "merge_inner = pd.merge(df1, df2) \n",
    "print(merge_inner) # id 기준으로 공통으로 존재하는 5개 종목에 대해 병합되어 출력"
   ]
  },
  {
   "cell_type": "code",
   "execution_count": 29,
   "id": "196827e0",
   "metadata": {},
   "outputs": [
    {
     "name": "stdout",
     "output_type": "stream",
     "text": [
      "        id    stock_name          value     price              name  \\\n",
      "0   128940      한미약품   59385.666667  421000.0               NaN   \n",
      "1   130960        CJ E&M   58540.666667   98900.0            CJ E&M   \n",
      "2   138250    엔에스쇼핑   14558.666667   13200.0               NaN   \n",
      "3   139480        이마트  239230.833333  254500.0            이마트   \n",
      "4   142280  녹십자엠에스     468.833333   10200.0               NaN   \n",
      "5   145990        삼양사   82750.000000   82000.0            삼양사   \n",
      "6   185750        종근당   40293.666667  100500.0            종근당   \n",
      "7   192400    쿠쿠홀딩스  179204.666667  177500.0               NaN   \n",
      "8   199800          툴젠   -2514.333333  115400.0               NaN   \n",
      "9   204210  모두투어리츠    3093.333333    3475.0      모두투어리츠   \n",
      "10  136480           NaN            NaN       NaN              하림   \n",
      "11  138040           NaN            NaN       NaN    메리츠금융지주   \n",
      "12  161390           NaN            NaN       NaN        한국타이어   \n",
      "13  181710           NaN            NaN       NaN   NHN엔터테인먼트   \n",
      "14  207940           NaN            NaN       NaN  삼성바이오로직스   \n",
      "\n",
      "             eps       bps        per       pbr  \n",
      "0            NaN       NaN        NaN       NaN  \n",
      "1    6301.333333   54068.0  15.695091  1.829178  \n",
      "2            NaN       NaN        NaN       NaN  \n",
      "3   18268.166667  295780.0  13.931338  0.860437  \n",
      "4            NaN       NaN        NaN       NaN  \n",
      "5    5741.000000  108090.0  14.283226  0.758627  \n",
      "6    3990.333333   40684.0  25.185866  2.470259  \n",
      "7            NaN       NaN        NaN       NaN  \n",
      "8            NaN       NaN        NaN       NaN  \n",
      "9      85.166667    5335.0  40.802348  0.651359  \n",
      "10    274.166667    3551.0  11.489362  0.887074  \n",
      "11   2122.333333   14894.0   6.313806  0.899691  \n",
      "12   5648.500000   51341.0   7.453306  0.820007  \n",
      "13   2110.166667   78434.0  30.755864  0.827447  \n",
      "14   4644.166667   60099.0  89.790059  6.938551  \n"
     ]
    }
   ],
   "source": [
    "# 데이터프레임 합치기 - 합집합\n",
    "merge_outer = pd.merge(df1, df2, how = 'outer', on = 'id')\n",
    "print(merge_outer)"
   ]
  },
  {
   "cell_type": "code",
   "execution_count": 30,
   "id": "517a2dfe",
   "metadata": {},
   "outputs": [
    {
     "name": "stdout",
     "output_type": "stream",
     "text": [
      "     id_x    stock_name          value   price      id_y          name  \\\n",
      "0  128940      한미약품   59385.666667  421000       NaN           NaN   \n",
      "1  130960        CJ E&M   58540.666667   98900  130960.0        CJ E&M   \n",
      "2  138250    엔에스쇼핑   14558.666667   13200       NaN           NaN   \n",
      "3  139480        이마트  239230.833333  254500  139480.0        이마트   \n",
      "4  142280  녹십자엠에스     468.833333   10200       NaN           NaN   \n",
      "5  145990        삼양사   82750.000000   82000  145990.0        삼양사   \n",
      "6  185750        종근당   40293.666667  100500  185750.0        종근당   \n",
      "7  192400    쿠쿠홀딩스  179204.666667  177500       NaN           NaN   \n",
      "8  199800          툴젠   -2514.333333  115400       NaN           NaN   \n",
      "9  204210  모두투어리츠    3093.333333    3475  204210.0  모두투어리츠   \n",
      "\n",
      "            eps       bps        per       pbr  \n",
      "0           NaN       NaN        NaN       NaN  \n",
      "1   6301.333333   54068.0  15.695091  1.829178  \n",
      "2           NaN       NaN        NaN       NaN  \n",
      "3  18268.166667  295780.0  13.931338  0.860437  \n",
      "4           NaN       NaN        NaN       NaN  \n",
      "5   5741.000000  108090.0  14.283226  0.758627  \n",
      "6   3990.333333   40684.0  25.185866  2.470259  \n",
      "7           NaN       NaN        NaN       NaN  \n",
      "8           NaN       NaN        NaN       NaN  \n",
      "9     85.166667    5335.0  40.802348  0.651359  \n"
     ]
    }
   ],
   "source": [
    "# 데이터프레임 합치기 - 왼쪽 데이터프레임 기준, 키 값 분리\n",
    "merge_left = pd.merge(df1, df2, how = 'left', left_on = 'stock_name', right_on = 'name')\n",
    "print(merge_left) # 기준 열이 아닌 id의 경우 양쪽 데이터프레임에 모두 존재해서 id_x, id_y와 같이 구분하여 표시"
   ]
  },
  {
   "cell_type": "code",
   "execution_count": 31,
   "id": "5fc58308",
   "metadata": {},
   "outputs": [
    {
     "name": "stdout",
     "output_type": "stream",
     "text": [
      "       id_x    stock_name          value     price    id_y              name  \\\n",
      "0  130960.0        CJ E&M   58540.666667   98900.0  130960            CJ E&M   \n",
      "1       NaN           NaN            NaN       NaN  136480              하림   \n",
      "2       NaN           NaN            NaN       NaN  138040    메리츠금융지주   \n",
      "3  139480.0        이마트  239230.833333  254500.0  139480            이마트   \n",
      "4  145990.0        삼양사   82750.000000   82000.0  145990            삼양사   \n",
      "5       NaN           NaN            NaN       NaN  161390        한국타이어   \n",
      "6       NaN           NaN            NaN       NaN  181710   NHN엔터테인먼트   \n",
      "7  185750.0        종근당   40293.666667  100500.0  185750            종근당   \n",
      "8  204210.0  모두투어리츠    3093.333333    3475.0  204210      모두투어리츠   \n",
      "9       NaN           NaN            NaN       NaN  207940  삼성바이오로직스   \n",
      "\n",
      "            eps     bps        per       pbr  \n",
      "0   6301.333333   54068  15.695091  1.829178  \n",
      "1    274.166667    3551  11.489362  0.887074  \n",
      "2   2122.333333   14894   6.313806  0.899691  \n",
      "3  18268.166667  295780  13.931338  0.860437  \n",
      "4   5741.000000  108090  14.283226  0.758627  \n",
      "5   5648.500000   51341   7.453306  0.820007  \n",
      "6   2110.166667   78434  30.755864  0.827447  \n",
      "7   3990.333333   40684  25.185866  2.470259  \n",
      "8     85.166667    5335  40.802348  0.651359  \n",
      "9   4644.166667   60099  89.790059  6.938551  \n"
     ]
    }
   ],
   "source": [
    "# 데이터프레임 합치기 - 오른쪽 데이터프레임 기준, 키 값 분리\n",
    "merge_right = pd.merge(df1, df2, how = 'right', left_on = 'stock_name', right_on = 'name')\n",
    "print(merge_right)"
   ]
  },
  {
   "cell_type": "markdown",
   "id": "3e185ab4",
   "metadata": {},
   "source": [
    "# 4-3. 데이터프레임 결합\n",
    "join() 메소드는 merge() 함수를 기반으로 만들어져 기본 작동 방식이 서로 비슷<br>\n",
    "다만, join() 메소드는 두 데이터프레임의 행 인덱스를 기준으로 결합<br>\n",
    "하지만 join() 메소드에서도 on = keys 옵션을 설정하면 행 인덱스 대신 다른 열을 기준으로 결합하는 것이 가능"
   ]
  },
  {
   "cell_type": "code",
   "execution_count": 32,
   "id": "9326f15e",
   "metadata": {},
   "outputs": [
    {
     "name": "stdout",
     "output_type": "stream",
     "text": [
      "          stock_name          value   price          name           eps  \\\n",
      "id                                                                        \n",
      "128940      한미약품   59385.666667  421000           NaN           NaN   \n",
      "130960        CJ E&M   58540.666667   98900        CJ E&M   6301.333333   \n",
      "138250    엔에스쇼핑   14558.666667   13200           NaN           NaN   \n",
      "139480        이마트  239230.833333  254500        이마트  18268.166667   \n",
      "142280  녹십자엠에스     468.833333   10200           NaN           NaN   \n",
      "145990        삼양사   82750.000000   82000        삼양사   5741.000000   \n",
      "185750        종근당   40293.666667  100500        종근당   3990.333333   \n",
      "192400    쿠쿠홀딩스  179204.666667  177500           NaN           NaN   \n",
      "199800          툴젠   -2514.333333  115400           NaN           NaN   \n",
      "204210  모두투어리츠    3093.333333    3475  모두투어리츠     85.166667   \n",
      "\n",
      "             bps        per       pbr  \n",
      "id                                     \n",
      "128940       NaN        NaN       NaN  \n",
      "130960   54068.0  15.695091  1.829178  \n",
      "138250       NaN        NaN       NaN  \n",
      "139480  295780.0  13.931338  0.860437  \n",
      "142280       NaN        NaN       NaN  \n",
      "145990  108090.0  14.283226  0.758627  \n",
      "185750   40684.0  25.185866  2.470259  \n",
      "192400       NaN        NaN       NaN  \n",
      "199800       NaN        NaN       NaN  \n",
      "204210    5335.0  40.802348  0.651359  \n"
     ]
    }
   ],
   "source": [
    "import pandas as pd\n",
    "\n",
    "# IPython 디스플레이 설정 변경\n",
    "pd.set_option('display.max_columns', 10) \n",
    "pd.set_option('display.max_colwidth', 20)\n",
    "pd.set_option('display.unicode.east_asian_width', True)\n",
    "\n",
    "# 주식 데이터를 가져와서 데이터프레임 만들기\n",
    "df1 = pd.read_excel('./stock price.xlsx', index_col = 'id', engine = 'openpyxl') # id를 행 인덱스로 설정\n",
    "df2 = pd.read_excel('./stock valuation.xlsx', index_col = 'id', engine = 'openpyxl')\n",
    "\n",
    "# 데이터프레임 결합(join) - 행 인덱스를 기준으로 결합\n",
    "df3 = df1.join(df2)\n",
    "print(df3)"
   ]
  },
  {
   "cell_type": "code",
   "execution_count": 33,
   "id": "0a3f1749",
   "metadata": {},
   "outputs": [
    {
     "name": "stdout",
     "output_type": "stream",
     "text": [
      "          stock_name          value   price          name           eps  \\\n",
      "id                                                                        \n",
      "130960        CJ E&M   58540.666667   98900        CJ E&M   6301.333333   \n",
      "139480        이마트  239230.833333  254500        이마트  18268.166667   \n",
      "145990        삼양사   82750.000000   82000        삼양사   5741.000000   \n",
      "185750        종근당   40293.666667  100500        종근당   3990.333333   \n",
      "204210  모두투어리츠    3093.333333    3475  모두투어리츠     85.166667   \n",
      "\n",
      "           bps        per       pbr  \n",
      "id                                   \n",
      "130960   54068  15.695091  1.829178  \n",
      "139480  295780  13.931338  0.860437  \n",
      "145990  108090  14.283226  0.758627  \n",
      "185750   40684  25.185866  2.470259  \n",
      "204210    5335  40.802348  0.651359  \n"
     ]
    }
   ],
   "source": [
    "# 데이터프레임 결합(join) - 교집합\n",
    "df4 = df1.join(df2, how = 'inner')\n",
    "print(df4)"
   ]
  },
  {
   "cell_type": "markdown",
   "id": "8edbcead",
   "metadata": {},
   "source": [
    "# 5. 그룹 연산\n",
    "* 그룹 연산(분할) : DataFrame 객체.groupby(기준이 되는 열)\n",
    "* 개별 그룹 선택 : group 객체.get_group(그룹명)\n",
    "* 데이터 집계 : group 객체.집계함수 / group 객체.agg(사용자 정의 함수, 매핑함수)\n",
    " * 모든 열에 여러 함수를 매핑 : group 객체.agg({함수1, 함수2, 함수3, ...})\n",
    " * 각 열마다 다른 함수를 매핑 : group 객체.agg({'열1':함수1, '열2':함수2, ...})<br>\n",
    "=> agg() 메소드는 각 그룹별 데이터에 연산을 위한 함수를 구분 적용하고, 그룹별로 연산 결과를 집계하여 반환\n",
    "* 그룹 연산 데이터 변환 : group 객체.transform(매핑함수)<br>\n",
    "=> transform() 메소드는 그룹별로 구분하여 각 원소에 함수를 적용하지만 그룹별 집계 대신 각 원소의 본래 행 인덱스와 열 이름을 기준으로 연산 결과를 반환\n",
    "* 그룹 객체 필터링 : group 객체.filter(조건식 함수)\n",
    "* 그룹 객체에 함수 매핑 : group 객체.apply(매핑 함수)"
   ]
  },
  {
   "cell_type": "markdown",
   "id": "57030368",
   "metadata": {},
   "source": [
    "## 5-1. 그룹 객체 만들기(분할 단계)\n",
    "groupby() 메소드는 데이터프레임의 특정 열을 기준으로 데이터프레임을 분할하여 그룹 객체를 반환<br>\n",
    "기준이 되는 열은 1개도 가능하고, 여러 열을 리스트로 입력할 수도 있음"
   ]
  },
  {
   "cell_type": "markdown",
   "id": "83661350",
   "metadata": {},
   "source": [
    "### 1개 열을 기준으로 그룹화"
   ]
  },
  {
   "cell_type": "code",
   "execution_count": 39,
   "id": "a2c711bb",
   "metadata": {},
   "outputs": [
    {
     "name": "stdout",
     "output_type": "stream",
     "text": [
      "승객 수 : 891\n",
      "    age     sex  class     fare  survived\n",
      "0  22.0    male  Third   7.2500         0\n",
      "1  38.0  female  First  71.2833         1\n",
      "2  26.0  female  Third   7.9250         1\n",
      "3  35.0  female  First  53.1000         1\n",
      "4  35.0    male  Third   8.0500         0 \n",
      "\n",
      "<pandas.core.groupby.generic.DataFrameGroupBy object at 0x0000024E4E750E50> \n",
      "\n",
      "* key : First\n",
      "* number : 216\n",
      "     age     sex  class     fare  survived\n",
      "1   38.0  female  First  71.2833         1\n",
      "3   35.0  female  First  53.1000         1\n",
      "6   54.0    male  First  51.8625         0\n",
      "11  58.0  female  First  26.5500         1\n",
      "23  28.0    male  First  35.5000         1\n",
      "\n",
      "\n",
      "* key : Second\n",
      "* number : 184\n",
      "     age     sex   class     fare  survived\n",
      "9   14.0  female  Second  30.0708         1\n",
      "15  55.0  female  Second  16.0000         1\n",
      "17   NaN    male  Second  13.0000         1\n",
      "20  35.0    male  Second  26.0000         0\n",
      "21  34.0    male  Second  13.0000         1\n",
      "\n",
      "\n",
      "* key : Third\n",
      "* number : 491\n",
      "    age     sex  class     fare  survived\n",
      "0  22.0    male  Third   7.2500         0\n",
      "2  26.0  female  Third   7.9250         1\n",
      "4  35.0    male  Third   8.0500         0\n",
      "5   NaN    male  Third   8.4583         0\n",
      "7   2.0    male  Third  21.0750         0\n",
      "\n",
      "\n",
      "              age       fare  survived\n",
      "class                                 \n",
      "First   38.233441  84.154687  0.629630\n",
      "Second  29.877630  20.662183  0.472826\n",
      "Third   25.140620  13.675550  0.242363 \n",
      "\n",
      "    age     sex  class     fare  survived\n",
      "0  22.0    male  Third   7.2500         0\n",
      "2  26.0  female  Third   7.9250         1\n",
      "4  35.0    male  Third   8.0500         0\n",
      "5   NaN    male  Third   8.4583         0\n",
      "7   2.0    male  Third  21.0750         0\n"
     ]
    }
   ],
   "source": [
    "import pandas as pd\n",
    "import seaborn as sns\n",
    "\n",
    "titanic = sns.load_dataset('titanic')\n",
    "df = titanic.loc[:, ['age', 'sex', 'class', 'fare', 'survived']]\n",
    "\n",
    "print('승객 수 :', len(df))\n",
    "print(df.head(), '\\n')\n",
    "\n",
    "# class 열을 기준으로 분할\n",
    "grouped = df.groupby(['class'])\n",
    "print(grouped, '\\n')\n",
    "\n",
    "# 그룹 객체를 iteration으로 출력 : head() 메소드로 첫 5행만을 출력\n",
    "# 각 승객의 행 인덱스가 그대로 유지됨\n",
    "for key, group in grouped:\n",
    "    print('* key :', key)\n",
    "    print('* number :', len(group))\n",
    "    print(group.head())\n",
    "    print('\\n')\n",
    "    \n",
    "# 그룹별 연산 메소드 적용\n",
    "average = grouped.mean()\n",
    "print(average, '\\n')\n",
    "\n",
    "# 개별 그룹 선택\n",
    "group3 = grouped.get_group('Third')\n",
    "print(group3.head())"
   ]
  },
  {
   "cell_type": "markdown",
   "id": "bead60c9",
   "metadata": {},
   "source": [
    "### 여러 열을 기준으로 그룹화\n",
    "여러 개의 기준 값을 사용하기 때문에 반환되는 그룹 객체의 인덱스는 다중 구조인 멀티 인덱스(MultiIndex)를 가짐<br>\n",
    "가능한 조합이 튜플 형식으로 지정됨 (ex) ('First', 'Female')"
   ]
  },
  {
   "cell_type": "code",
   "execution_count": 43,
   "id": "f4aff6fa",
   "metadata": {
    "scrolled": true
   },
   "outputs": [
    {
     "name": "stdout",
     "output_type": "stream",
     "text": [
      "* key : ('First', 'female')\n",
      "* number : 94\n",
      "     age     sex  class      fare  survived\n",
      "1   38.0  female  First   71.2833         1\n",
      "3   35.0  female  First   53.1000         1\n",
      "11  58.0  female  First   26.5500         1\n",
      "31   NaN  female  First  146.5208         1\n",
      "52  49.0  female  First   76.7292         1\n",
      "\n",
      "\n",
      "* key : ('First', 'male')\n",
      "* number : 122\n",
      "     age   sex  class      fare  survived\n",
      "6   54.0  male  First   51.8625         0\n",
      "23  28.0  male  First   35.5000         1\n",
      "27  19.0  male  First  263.0000         0\n",
      "30  40.0  male  First   27.7208         0\n",
      "34  28.0  male  First   82.1708         0\n",
      "\n",
      "\n",
      "* key : ('Second', 'female')\n",
      "* number : 76\n",
      "     age     sex   class     fare  survived\n",
      "9   14.0  female  Second  30.0708         1\n",
      "15  55.0  female  Second  16.0000         1\n",
      "41  27.0  female  Second  21.0000         0\n",
      "43   3.0  female  Second  41.5792         1\n",
      "53  29.0  female  Second  26.0000         1\n",
      "\n",
      "\n",
      "* key : ('Second', 'male')\n",
      "* number : 108\n",
      "     age   sex   class  fare  survived\n",
      "17   NaN  male  Second  13.0         1\n",
      "20  35.0  male  Second  26.0         0\n",
      "21  34.0  male  Second  13.0         1\n",
      "33  66.0  male  Second  10.5         0\n",
      "70  32.0  male  Second  10.5         0\n",
      "\n",
      "\n",
      "* key : ('Third', 'female')\n",
      "* number : 144\n",
      "     age     sex  class     fare  survived\n",
      "2   26.0  female  Third   7.9250         1\n",
      "8   27.0  female  Third  11.1333         1\n",
      "10   4.0  female  Third  16.7000         1\n",
      "14  14.0  female  Third   7.8542         0\n",
      "18  31.0  female  Third  18.0000         0\n",
      "\n",
      "\n",
      "* key : ('Third', 'male')\n",
      "* number : 347\n",
      "     age   sex  class     fare  survived\n",
      "0   22.0  male  Third   7.2500         0\n",
      "4   35.0  male  Third   8.0500         0\n",
      "5    NaN  male  Third   8.4583         0\n",
      "7    2.0  male  Third  21.0750         0\n",
      "12  20.0  male  Third   8.0500         0\n",
      "\n",
      "\n",
      "                     age        fare  survived\n",
      "class  sex                                    \n",
      "First  female  34.611765  106.125798  0.968085\n",
      "       male    41.281386   67.226127  0.368852\n",
      "Second female  28.722973   21.970121  0.921053\n",
      "       male    30.740707   19.741782  0.157407\n",
      "Third  female  21.750000   16.118810  0.500000\n",
      "       male    26.507589   12.661633  0.135447 \n",
      "\n",
      "     age     sex  class     fare  survived\n",
      "2   26.0  female  Third   7.9250         1\n",
      "8   27.0  female  Third  11.1333         1\n",
      "10   4.0  female  Third  16.7000         1\n",
      "14  14.0  female  Third   7.8542         0\n",
      "18  31.0  female  Third  18.0000         0\n"
     ]
    }
   ],
   "source": [
    "# class 열, sex 열을 기준으로 분할\n",
    "grouped_two = df.groupby(['class', 'sex'])\n",
    "\n",
    "# grouped_two 그룹 객체를 iteration으로 출력\n",
    "for key, group in grouped_two:\n",
    "    print('* key :', key)\n",
    "    print('* number :', len(group))\n",
    "    print(group.head())\n",
    "    print('\\n')\n",
    "    \n",
    "# grouped_two 그룹 객체에 연산 메소드 적용\n",
    "average_two = grouped_two.mean() # 반환된 데이터프레임의 행 인덱스가 2중 멀티 인덱스\n",
    "print(average_two, '\\n')\n",
    "\n",
    "# grouped_two 그룹 객체에서 개별 그룹 선택하기\n",
    "group3f = grouped_two.get_group(('Third', 'female'))\n",
    "print(group3f.head())"
   ]
  },
  {
   "cell_type": "markdown",
   "id": "606ba00c",
   "metadata": {},
   "source": [
    "## 그룹 연산 메소드(적용-결합 단계)"
   ]
  },
  {
   "cell_type": "markdown",
   "id": "5c569296",
   "metadata": {},
   "source": [
    "### 데이터 집계\n",
    "* group 객체.집계함수\n",
    "* group 객체.agg(매핑함수)"
   ]
  },
  {
   "cell_type": "code",
   "execution_count": 36,
   "id": "870232bb",
   "metadata": {},
   "outputs": [
    {
     "name": "stdout",
     "output_type": "stream",
     "text": [
      "              age       fare  survived\n",
      "class                                 \n",
      "First   14.802856  78.380373  0.484026\n",
      "Second  14.001077  13.417399  0.500623\n",
      "Third   12.495398  11.778142  0.428949 \n",
      "\n",
      "class\n",
      "First     78.380373\n",
      "Second    13.417399\n",
      "Third     11.778142\n",
      "Name: fare, dtype: float64 \n",
      "\n"
     ]
    }
   ],
   "source": [
    "# 데이터 집계\n",
    "# 집계 기능을 내장하고 있는 판다스 기본 함수 : mean(), max(), min(), sum(), count(), size(), var(), std(), describe(), info(), first(), last()\n",
    "\n",
    "import pandas as pd\n",
    "import seaborn as sns\n",
    "\n",
    "titanic = sns.load_dataset('titanic')\n",
    "df = titanic.loc[:, ['age', 'sex', 'class', 'fare', 'survived']]\n",
    "\n",
    "# class 열을 기준으로 분할\n",
    "grouped = df.groupby(['class'])\n",
    "\n",
    "# 각 그룹에 대한 모든 열의 표준편차를 집계하여 데이터프레임으로 변환\n",
    "std_all = grouped.std()\n",
    "print(std_all, '\\n')\n",
    "\n",
    "# 각 그룹에 대한 fare 열의 표준편차를 집계하여 시리즈로 변환\n",
    "std_fare = grouped.fare.std()\n",
    "print(std_fare, '\\n')"
   ]
  },
  {
   "cell_type": "code",
   "execution_count": 37,
   "id": "8b6ffd59",
   "metadata": {},
   "outputs": [
    {
     "name": "stdout",
     "output_type": "stream",
     "text": [
      "          age      fare  survived\n",
      "class                            \n",
      "First   79.08  512.3292         1\n",
      "Second  69.33   73.5000         1\n",
      "Third   73.58   69.5500         1 \n",
      "\n",
      "         age           sex       fare           survived    \n",
      "         min   max     min   max  min       max      min max\n",
      "class                                                       \n",
      "First   0.92  80.0  female  male  0.0  512.3292        0   1\n",
      "Second  0.67  70.0  female  male  0.0   73.5000        0   1\n",
      "Third   0.42  74.0  female  male  0.0   69.5500        0   1 \n",
      "\n",
      "       fare                  age\n",
      "        min       max       mean\n",
      "class                           \n",
      "First   0.0  512.3292  38.233441\n",
      "Second  0.0   73.5000  29.877630\n",
      "Third   0.0   69.5500  25.140620\n"
     ]
    },
    {
     "name": "stderr",
     "output_type": "stream",
     "text": [
      "C:\\Users\\gram\\anaconda3\\lib\\site-packages\\pandas\\core\\groupby\\generic.py:303: FutureWarning: Dropping invalid columns in SeriesGroupBy.agg is deprecated. In a future version, a TypeError will be raised. Before calling .agg, select only columns which should be valid for the aggregating function.\n",
      "  results[key] = self.aggregate(func)\n"
     ]
    }
   ],
   "source": [
    "# agg() 메소드 집계 : 그룹화된 객체에 각 열에 함수를 적용\n",
    "\n",
    "def min_max(x): # 최대값 - 최소값\n",
    "    return x.max() - x.min()\n",
    "\n",
    "# 각 그룹의 최대값과 최소값 차이를 계산하여 그룹별로 집계\n",
    "agg_minmax = grouped.agg(min_max)\n",
    "print(agg_minmax, '\\n')\n",
    "\n",
    "# 여러 함수를 각 열에 동일하게 적용하여 집계\n",
    "agg_all = grouped.agg(['min', 'max']) \n",
    "print(agg_all.head(), '\\n') # 함수명을 열 이름에 추가하여 이중 열 구조를 만듦\n",
    "\n",
    "# 각 열마다 다른 함수를 적용하여 집계\n",
    "agg_sep = grouped.agg({'fare':['min', 'max'], 'age':'mean'})\n",
    "print(agg_sep) # 함수명을 열 이름에 추가하여 이중 열 구조를 만듦"
   ]
  },
  {
   "cell_type": "markdown",
   "id": "98792c11",
   "metadata": {},
   "source": [
    "### 그룹 연산 데이터 변환\n",
    "transform() 메소드는 그룹별로 구분하여 각 함수를 적용한 후, 결과를 반환할 때 본래의 행 인덱스와 열 이름을 기준으로 연산 결과 반환"
   ]
  },
  {
   "cell_type": "code",
   "execution_count": 38,
   "id": "83729b30",
   "metadata": {},
   "outputs": [
    {
     "name": "stdout",
     "output_type": "stream",
     "text": [
      "class\n",
      "First     38.233441\n",
      "Second    29.877630\n",
      "Third     25.140620\n",
      "Name: age, dtype: float64 \n",
      "\n",
      "class\n",
      "First     14.802856\n",
      "Second    14.001077\n",
      "Third     12.495398\n",
      "Name: age, dtype: float64 \n",
      "\n",
      "\n",
      "\n",
      "* key : First\n",
      "1   -0.015770\n",
      "3   -0.218434\n",
      "6    1.065103\n",
      "Name: age, dtype: float64\n",
      "\n",
      "\n",
      "* key : Second\n",
      "9    -1.134029\n",
      "15    1.794317\n",
      "17         NaN\n",
      "Name: age, dtype: float64\n",
      "\n",
      "\n",
      "* key : Third\n",
      "0   -0.251342\n",
      "2    0.068776\n",
      "4    0.789041\n",
      "Name: age, dtype: float64\n",
      "\n",
      "\n"
     ]
    }
   ],
   "source": [
    "# z-score을 구하는 과정\n",
    "\n",
    "# [방법1] 각 그룹별로 z-score을 구해 각 그룹별 결과를 출력\n",
    "\n",
    "# 그룹별 age 열의 평균 집계 연산\n",
    "age_mean = grouped.age.mean()\n",
    "print(age_mean, '\\n')\n",
    "\n",
    "# 그룹별 age 열의 표준편차 집계 연산\n",
    "age_std = grouped.age.std()\n",
    "print(age_std, '\\n')\n",
    "print('\\n')\n",
    "\n",
    "# 그룹 객체의 age 열을 iteration으로 z-score를 계산하여 출력\n",
    "for key, group in grouped.age:\n",
    "    group_zscore = ( (group - age_mean.loc[key]) / age_std.loc[key])\n",
    "    print('* key :', key)\n",
    "    print(group_zscore.head(3))\n",
    "    print('\\n')"
   ]
  },
  {
   "cell_type": "code",
   "execution_count": 39,
   "id": "6cfed1b9",
   "metadata": {},
   "outputs": [
    {
     "name": "stdout",
     "output_type": "stream",
     "text": [
      "0     -0.251342\n",
      "1     -0.015770\n",
      "2      0.068776\n",
      "3     -0.218434\n",
      "4      0.789041\n",
      "         ...   \n",
      "886   -0.205529\n",
      "887   -1.299306\n",
      "888         NaN\n",
      "889   -0.826424\n",
      "890    0.548953\n",
      "Name: age, Length: 891, dtype: float64\n"
     ]
    }
   ],
   "source": [
    "# [방법2] 각 그룹별로 z-score을 구한 후 원래 데이터 형태로 반환\n",
    "\n",
    "# z-score을 계산하는 사용자 함수 정이ㅡ\n",
    "def z_score(x):\n",
    "    return (x - x.mean()) / x.std()\n",
    "\n",
    "# transform() 메소드를 이용하여 age 열의 데이터를 z-score로 변환\n",
    "age_zscore = grouped.age.transform(z_score)\n",
    "print(age_zscore)"
   ]
  },
  {
   "cell_type": "markdown",
   "id": "3337ce5b",
   "metadata": {},
   "source": [
    "### 그룹 객체 필터링\n",
    "그룹 객체에 filter() 메소드를 적용할 때 조건식을 가진 `함수`를 전달하면 조건이 참인 그룹만을 남김<br>\n",
    "본래 데이터의 형태로 추출됨"
   ]
  },
  {
   "cell_type": "code",
   "execution_count": 40,
   "id": "654b407a",
   "metadata": {},
   "outputs": [
    {
     "name": "stdout",
     "output_type": "stream",
     "text": [
      "    age     sex  class     fare  survived\n",
      "0  22.0    male  Third   7.2500         0\n",
      "1  38.0  female  First  71.2833         1\n",
      "2  26.0  female  Third   7.9250         1\n",
      "3  35.0  female  First  53.1000         1\n",
      "4  35.0    male  Third   8.0500         0 \n",
      "\n",
      "<class 'pandas.core.frame.DataFrame'> \n",
      "\n",
      "      age     sex   class    fare  survived\n",
      "884  25.0    male   Third   7.050         0\n",
      "885  39.0  female   Third  29.125         0\n",
      "886  27.0    male  Second  13.000         0\n",
      "888   NaN  female   Third  23.450         0\n",
      "890  32.0    male   Third   7.750         0 \n",
      "\n",
      "<class 'pandas.core.frame.DataFrame'> \n",
      "\n"
     ]
    }
   ],
   "source": [
    "# 데이터 개수가 200개 이상인 그룹만을 필터링하여 데이터프레임으로 변환\n",
    "grouped_filter = grouped.filter(lambda x: len(x) >= 200)\n",
    "print(grouped_filter.head(), '\\n') # class가 First, Third인 그룹만 반환\n",
    "print(type(grouped_filter), '\\n')\n",
    "\n",
    "# age 열의 평균이 30보다 작은 그룹만을 필터링하여 데이터프레임으로 변환\n",
    "age_filter = grouped.filter(lambda x: x.age.mean() < 30)\n",
    "print(age_filter.tail(), '\\n')\n",
    "print(type(age_filter), '\\n')"
   ]
  },
  {
   "cell_type": "markdown",
   "id": "b5175ae5",
   "metadata": {},
   "source": [
    "### 그룹 객체에 함수 매핑\n",
    "apply() 함수는 그룹 객체에도 적용 가능"
   ]
  },
  {
   "cell_type": "code",
   "execution_count": 41,
   "id": "6eba5d9f",
   "metadata": {},
   "outputs": [
    {
     "name": "stdout",
     "output_type": "stream",
     "text": [
      "                     age        fare    survived\n",
      "class                                           \n",
      "First  count  186.000000  216.000000  216.000000\n",
      "       mean    38.233441   84.154687    0.629630\n",
      "       std     14.802856   78.380373    0.484026\n",
      "       min      0.920000    0.000000    0.000000\n",
      "       25%     27.000000   30.923950    0.000000\n",
      "       50%     37.000000   60.287500    1.000000\n",
      "       75%     49.000000   93.500000    1.000000\n",
      "       max     80.000000  512.329200    1.000000\n",
      "Second count  173.000000  184.000000  184.000000\n",
      "       mean    29.877630   20.662183    0.472826\n",
      "       std     14.001077   13.417399    0.500623\n",
      "       min      0.670000    0.000000    0.000000\n",
      "       25%     23.000000   13.000000    0.000000\n",
      "       50%     29.000000   14.250000    0.000000\n",
      "       75%     36.000000   26.000000    1.000000\n",
      "       max     70.000000   73.500000    1.000000\n",
      "Third  count  355.000000  491.000000  491.000000\n",
      "       mean    25.140620   13.675550    0.242363\n",
      "       std     12.495398   11.778142    0.428949\n",
      "       min      0.420000    0.000000    0.000000\n",
      "       25%     18.000000    7.750000    0.000000\n",
      "       50%     24.000000    8.050000    0.000000\n",
      "       75%     32.000000   15.500000    0.000000\n",
      "       max     74.000000   69.550000    1.000000 \n",
      "\n",
      "0     -0.251342\n",
      "1     -0.015770\n",
      "2      0.068776\n",
      "3     -0.218434\n",
      "4      0.789041\n",
      "         ...   \n",
      "886   -0.205529\n",
      "887   -1.299306\n",
      "888         NaN\n",
      "889   -0.826424\n",
      "890    0.548953\n",
      "Name: age, Length: 891, dtype: float64 \n",
      "\n",
      "class\n",
      "First     False\n",
      "Second     True\n",
      "Third      True\n",
      "dtype: bool \n",
      "\n",
      "     age     sex   class     fare  survived\n",
      "9   14.0  female  Second  30.0708         1\n",
      "15  55.0  female  Second  16.0000         1\n",
      "17   NaN    male  Second  13.0000         1\n",
      "20  35.0    male  Second  26.0000         0\n",
      "21  34.0    male  Second  13.0000         1 \n",
      "\n",
      "    age     sex  class     fare  survived\n",
      "0  22.0    male  Third   7.2500         0\n",
      "2  26.0  female  Third   7.9250         1\n",
      "4  35.0    male  Third   8.0500         0\n",
      "5   NaN    male  Third   8.4583         0\n",
      "7   2.0    male  Third  21.0750         0 \n",
      "\n"
     ]
    }
   ],
   "source": [
    "# 집계 : 각 그룹별 요약 통계 정보 집계\n",
    "agg_grouped = grouped.apply(lambda x: x.describe())\n",
    "print(agg_grouped, '\\n')\n",
    "\n",
    "# z-score을 계산하는 사용자 함수 정의\n",
    "def z_score(x):\n",
    "    return (x - x.mean()) / x.std()\n",
    "\n",
    "age_zscore = grouped.age.apply(z_score)\n",
    "print(age_zscore, '\\n')\n",
    "\n",
    "# 필터링 : age 열의 데이터 평균이 30보다 작은 그룹만을 필터링하여 출력\n",
    "age_filter = grouped.apply(lambda x: x.age.mean() < 30)\n",
    "print(age_filter, '\\n')\n",
    "\n",
    "for x in age_filter.index:\n",
    "    if age_filter[x] == True:\n",
    "        age_filter_df = grouped.get_group(x)\n",
    "        print(age_filter_df.head(), '\\n')"
   ]
  },
  {
   "cell_type": "markdown",
   "id": "0b896bba",
   "metadata": {},
   "source": [
    "## ■ groupby() 실습"
   ]
  },
  {
   "cell_type": "code",
   "execution_count": 42,
   "id": "7f2cdd3d",
   "metadata": {},
   "outputs": [
    {
     "name": "stdout",
     "output_type": "stream",
     "text": [
      "            매출일자          상품명  수량   판매금액\n",
      "0     2021-02-01    무농약진주설향딸기   1  10900\n",
      "1     2021-02-01      무농약한판딸기   1   9900\n",
      "2     2021-02-01  스미후루순유기농바나나   1   3500\n",
      "3     2021-02-01  유기농체다슬라이스치즈   1   6800\n",
      "4     2021-02-01       제주마음우유   1   3400\n",
      "...          ...          ...  ..    ...\n",
      "4991  2021-02-28        무농약이상   1   2300\n",
      "4992  2021-02-28    농가상생못난이사과   1   8900\n",
      "4993  2021-02-28        무농약깻잎   2   2800\n",
      "4994  2021-02-28      무농약한판딸기   1   8900\n",
      "4995  2021-02-28       얼큰통밀라면   1   1190\n",
      "\n",
      "[4996 rows x 4 columns]\n",
      "            매출일자         상품명  수량   판매금액\n",
      "0     2021-02-01      21곡초코롤   3   5224\n",
      "1     2021-02-01   갈아만든슬러시딸기   1   1299\n",
      "2     2021-02-01        감자라면  28  40000\n",
      "3     2021-02-01       건치약포미   2   7600\n",
      "4     2021-02-01         경주빵   1   3383\n",
      "...          ...         ...  ..    ...\n",
      "3076  2021-02-28  통째로짜낸오렌지1L   1   8800\n",
      "3077  2021-02-28     통째로짜낸자몽   6  10800\n",
      "3078  2021-02-28     통째로짜낸포도   3   5400\n",
      "3079  2021-02-28        해물한끼   1   1800\n",
      "3080  2021-02-28      현미대롱강정   1   2000\n",
      "\n",
      "[3081 rows x 4 columns]\n"
     ]
    },
    {
     "name": "stderr",
     "output_type": "stream",
     "text": [
      "C:\\Users\\gram\\AppData\\Local\\Temp/ipykernel_28228/2815687137.py:10: FutureWarning: Indexing with multiple keys (implicitly converted to a tuple of keys) will be deprecated, use a list instead.\n",
      "  group_df = grouped['수량', '판매금액'].sum()\n"
     ]
    }
   ],
   "source": [
    "import pandas as pd\n",
    "\n",
    "df = pd.read_csv(\"https://raw.githubusercontent.com/\"\n",
    "                 \"panda-kim/pandas/main/groupby01.csv\")\n",
    "print(df)\n",
    "\n",
    "# 마트의 매출 데이터를 이용해 일별 제품매출 데이터를 만들어라.\n",
    "\n",
    "grouped = df.groupby(['매출일자', '상품명'])\n",
    "group_df = grouped['수량', '판매금액'].sum()\n",
    "group_df = group_df.reset_index()\n",
    "print(group_df)"
   ]
  },
  {
   "cell_type": "markdown",
   "id": "2cb38fc3",
   "metadata": {},
   "source": [
    "# 6. 멀티 인덱스"
   ]
  },
  {
   "cell_type": "code",
   "execution_count": 45,
   "id": "0d4ffe1b",
   "metadata": {},
   "outputs": [
    {
     "name": "stdout",
     "output_type": "stream",
     "text": [
      "                     age        fare  survived\n",
      "class  sex                                    \n",
      "First  female  34.611765  106.125798  0.968085\n",
      "       male    41.281386   67.226127  0.368852\n",
      "Second female  28.722973   21.970121  0.921053\n",
      "       male    30.740707   19.741782  0.157407\n",
      "Third  female  21.750000   16.118810  0.500000\n",
      "       male    26.507589   12.661633  0.135447 \n",
      "\n",
      "<class 'pandas.core.frame.DataFrame'>\n"
     ]
    }
   ],
   "source": [
    "import pandas as pd\n",
    "import seaborn as sns\n",
    "\n",
    "titanic = sns.load_dataset('titanic')\n",
    "df = titanic.loc[:, ['age', 'sex', 'class', 'fare', 'survived']]\n",
    "\n",
    "# class 열, sex 열을 기준으로 분할\n",
    "grouped = df.groupby(['class', 'sex'])\n",
    "\n",
    "# 그룹 객체에 연산 메소드 적용\n",
    "gdf = grouped.mean()\n",
    "print(gdf, '\\n') # 멀티인덱스를 가진 데이터프레임이 반환\n",
    "print(type(gdf))"
   ]
  },
  {
   "cell_type": "markdown",
   "id": "3067e176",
   "metadata": {},
   "source": [
    "### 멀티 인덱스에서 하나의 인덱스만 사용하는 방법\n",
    "* loc 인덱서 사용\n",
    "* xs 인덱서 사용 : level 옵션 사용"
   ]
  },
  {
   "cell_type": "code",
   "execution_count": 51,
   "id": "bd909bb6",
   "metadata": {},
   "outputs": [
    {
     "name": "stdout",
     "output_type": "stream",
     "text": [
      "              age        fare  survived\n",
      "sex                                    \n",
      "female  34.611765  106.125798  0.968085\n",
      "male    41.281386   67.226127  0.368852 \n",
      "\n",
      "age          34.611765\n",
      "fare        106.125798\n",
      "survived      0.968085\n",
      "Name: (First, female), dtype: float64 \n",
      "\n",
      "              age       fare  survived\n",
      "class                                 \n",
      "First   41.281386  67.226127  0.368852\n",
      "Second  30.740707  19.741782  0.157407\n",
      "Third   26.507589  12.661633  0.135447\n"
     ]
    }
   ],
   "source": [
    "# 1. loc 인덱서 사용\n",
    "\n",
    "# class 값이 First인 행을 선택하여 출력\n",
    "print(gdf.loc['First'], '\\n')\n",
    "\n",
    "# class 값이 First이고, sex 값이 female인 행을 선택하여 출력\n",
    "print(gdf.loc[('First', 'female')], '\\n')\n",
    "\n",
    "\n",
    "# 2. xs 인덱서 사용\n",
    "print(gdf.xs('male', level = 'sex'))"
   ]
  },
  {
   "cell_type": "markdown",
   "id": "032827e4",
   "metadata": {},
   "source": [
    "# 7. 피벗\n",
    "* 판다스 pivot_table() 함수는 엑셀에서 사용하는 피벗테이블과 비슷한 기능을 처리\n",
    "* 피벗테이블을 구성하는 4가지 요소\n",
    " * 행 인덱스\n",
    " * 열 인덱스\n",
    " * 데이터 값\n",
    " * 데이터 집계 함수"
   ]
  },
  {
   "cell_type": "code",
   "execution_count": 54,
   "id": "97cd9f9e",
   "metadata": {},
   "outputs": [
    {
     "name": "stdout",
     "output_type": "stream",
     "text": [
      "    age     sex  class     fare  survived\n",
      "0  22.0    male  Third   7.2500         0\n",
      "1  38.0  female  First  71.2833         1\n",
      "2  26.0  female  Third   7.9250         1\n",
      "3  35.0  female  First  53.1000         1\n",
      "4  35.0    male  Third   8.0500         0 \n",
      "\n",
      "sex        female       male\n",
      "class                       \n",
      "First   34.611765  41.281386\n",
      "Second  28.722973  30.740707\n",
      "Third   21.750000  26.507589\n"
     ]
    }
   ],
   "source": [
    "import pandas as pd\n",
    "import seaborn as sns\n",
    "\n",
    "# IPython 디스플레이 설정 변경\n",
    "pd.set_option('display.max_columns', 10) # 출력할 최대 열의 개수\n",
    "pd.set_option('display.max_colwidth', 20) # 출력할 열의 너비\n",
    "\n",
    "titanic = sns.load_dataset('titanic')\n",
    "df = titanic.loc[:, ['age', 'sex', 'class', 'fare', 'survived']]\n",
    "print(df.head(), '\\n')\n",
    "\n",
    "# 행, 열, 값, 집계에 사용할 열을 1개씩 지정 - 평균 집계\n",
    "pdf1 = pd.pivot_table(df, # 피벗할 데이터프레임\n",
    "                      index = 'class', # 행 위치에 들어갈 열\n",
    "                      columns = 'sex', # 열 위치에 들어갈 열\n",
    "                      values = 'age', # 데이터로 사용할 열\n",
    "                      aggfunc = 'mean') # 데이터 집계함수\n",
    "\n",
    "print(pdf1.head())"
   ]
  },
  {
   "cell_type": "code",
   "execution_count": 55,
   "id": "c65a173f",
   "metadata": {},
   "outputs": [
    {
     "name": "stdout",
     "output_type": "stream",
     "text": [
      "            mean              sum     \n",
      "sex       female      male female male\n",
      "class                                 \n",
      "First   0.968085  0.368852     91   45\n",
      "Second  0.921053  0.157407     70   17\n",
      "Third   0.500000  0.135447     72   47\n"
     ]
    }
   ],
   "source": [
    "# 값에 적용하는 집계 함수 2개 이상 지정 가능 - 생존율, 생존자 수 집계\n",
    "pdf2 = pd.pivot_table(df,\n",
    "                      index = 'class',\n",
    "                      columns = 'sex',\n",
    "                      values = 'survived',\n",
    "                      aggfunc = ['mean', 'sum'])\n",
    "print(pdf2.head()) # 데이터 집계함수 -> 열의 값 순서로 열 구조 층을 이룸"
   ]
  },
  {
   "cell_type": "code",
   "execution_count": 57,
   "id": "8f24abd5",
   "metadata": {},
   "outputs": [
    {
     "name": "stdout",
     "output_type": "stream",
     "text": [
      "                    mean                                      max        \\\n",
      "                     age                   fare               age         \n",
      "survived               0          1           0           1     0     1   \n",
      "class  sex                                                                \n",
      "First  female  25.666667  34.939024  110.604167  105.978159  50.0  63.0   \n",
      "       male    44.581967  36.248000   62.894910   74.637320  71.0  80.0   \n",
      "Second female  36.000000  28.080882   18.250000   22.288989  57.0  55.0   \n",
      "       male    33.369048  16.022000   19.488965   21.095100  70.0  62.0   \n",
      "Third  female  23.818182  19.329787   19.773093   12.464526  48.0  63.0   \n",
      "\n",
      "                                 \n",
      "                 fare            \n",
      "survived            0         1  \n",
      "class  sex                       \n",
      "First  female  151.55  512.3292  \n",
      "       male    263.00  512.3292  \n",
      "Second female   26.00   65.0000  \n",
      "       male     73.50   39.0000  \n",
      "Third  female   69.55   31.3875   \n",
      "\n"
     ]
    }
   ],
   "source": [
    "# 행, 열, 값에 사용할 열을 2개 이상 지정 가능 - 평균 나이, 최대 요금 집계\n",
    "pdf3 = pd.pivot_table(df,\n",
    "                      index = ['class', 'sex'],\n",
    "                      columns = 'survived',\n",
    "                      values = ['age', 'fare'],\n",
    "                      aggfunc = ['mean', 'max'])\n",
    "\n",
    "# IPython Console 디스플레이 옵션 설정\n",
    "pd.set_option('display.max_columns', 10)\n",
    "print(pdf3.head(), '\\n') # 데이터 집계함수 -> 데이터 값 -> 열의 값 순서로 열 구조 층을 이룸"
   ]
  },
  {
   "cell_type": "code",
   "execution_count": 64,
   "id": "1799260a",
   "metadata": {},
   "outputs": [
    {
     "name": "stdout",
     "output_type": "stream",
     "text": [
      "               mean                                      max                \\\n",
      "                age                   fare               age          fare   \n",
      "survived          0          1           0           1     0     1       0   \n",
      "sex                                                                          \n",
      "female    25.666667  34.939024  110.604167  105.978159  50.0  63.0  151.55   \n",
      "male      44.581967  36.248000   62.894910   74.637320  71.0  80.0  263.00   \n",
      "\n",
      "                    \n",
      "                    \n",
      "survived         1  \n",
      "sex                 \n",
      "female    512.3292  \n",
      "male      512.3292   \n",
      "\n",
      "            survived\n",
      "mean  age   0            25.666667\n",
      "            1            34.939024\n",
      "      fare  0           110.604167\n",
      "            1           105.978159\n",
      "max   age   0            50.000000\n",
      "            1            63.000000\n",
      "      fare  0           151.550000\n",
      "            1           512.329200\n",
      "Name: (First, female), dtype: float64 \n",
      "\n",
      "               mean                                      max                \\\n",
      "                age                   fare               age          fare   \n",
      "survived          0          1           0           1     0     1       0   \n",
      "class                                                                        \n",
      "First     25.666667  34.939024  110.604167  105.978159  50.0  63.0  151.55   \n",
      "Second    36.000000  28.080882   18.250000   22.288989  57.0  55.0   26.00   \n",
      "Third     23.818182  19.329787   19.773093   12.464526  48.0  63.0   69.55   \n",
      "\n",
      "                    \n",
      "                    \n",
      "survived         1  \n",
      "class               \n",
      "First     512.3292  \n",
      "Second     65.0000  \n",
      "Third      31.3875   \n",
      "\n",
      "                  mean                               max                  \n",
      "                   age               fare            age        fare      \n",
      "survived             0       1          0        1     0     1     0     1\n",
      "class  sex                                                                \n",
      "Second male  33.369048  16.022  19.488965  21.0951  70.0  62.0  73.5  39.0 \n",
      "\n",
      "                     age                   fare            \n",
      "survived               0          1           0           1\n",
      "class  sex                                                 \n",
      "First  female  25.666667  34.939024  110.604167  105.978159\n",
      "       male    44.581967  36.248000   62.894910   74.637320\n",
      "Second female  36.000000  28.080882   18.250000   22.288989\n",
      "       male    33.369048  16.022000   19.488965   21.095100\n",
      "Third  female  23.818182  19.329787   19.773093   12.464526\n",
      "       male    27.255814  22.274211   12.204469   15.579696\n",
      "survived               0          1\n",
      "class  sex                         \n",
      "First  female  25.666667  34.939024\n",
      "       male    44.581967  36.248000\n",
      "Second female  36.000000  28.080882\n",
      "       male    33.369048  16.022000\n",
      "Third  female  23.818182  19.329787\n",
      "       male    27.255814  22.274211\n",
      "                  max\n",
      "                 fare\n",
      "survived            0\n",
      "class  sex           \n",
      "First  female  151.55\n",
      "       male    263.00\n",
      "Second female   26.00\n",
      "       male     73.50\n",
      "Third  female   69.55\n",
      "       male     69.55\n"
     ]
    }
   ],
   "source": [
    "# xs 인덱서 사용 - 행 선택(axis = 0, 디폴트)\n",
    "print(pdf3.xs('First'), '\\n') # 행 인덱스가 First인 행을 선택\n",
    "\n",
    "print(pdf3.xs(('First', 'female')), '\\n') # 행 인덱스가 ('First', 'female')인 행을 선택\n",
    "\n",
    "print(pdf3.xs('female', level = 'sex'), '\\n') # 행 인덱스의 sex 레벨이 female인 행을 선택\n",
    "\n",
    "print(pdf3.xs(('Second', 'male'), level = [0, 'sex']), '\\n') # Second, male인 행을 선택 \n",
    "\n",
    "# xs 인덱서 사용 - 열 선택(axis = 1 설정)\n",
    "print(pdf3.xs('mean', axis = 1)) # 열 인덱스가 mean인 데이터를 선택\n",
    "\n",
    "print(pdf3.xs(('mean', 'age'), axis = 1)) # 열 인덱스가 ('mean', 'age')인 데이터 선택\n",
    "\n",
    "print(pdf3.xs(('max', 'fare', 0), level = [0, 1, 2], axis = 1)) # 열 인덱스가 max, fare, survived = 0인 데이터 선택"
   ]
  }
 ],
 "metadata": {
  "kernelspec": {
   "display_name": "Python 3 (ipykernel)",
   "language": "python",
   "name": "python3"
  },
  "language_info": {
   "codemirror_mode": {
    "name": "ipython",
    "version": 3
   },
   "file_extension": ".py",
   "mimetype": "text/x-python",
   "name": "python",
   "nbconvert_exporter": "python",
   "pygments_lexer": "ipython3",
   "version": "3.9.7"
  }
 },
 "nbformat": 4,
 "nbformat_minor": 5
}
