{
 "cells": [
  {
   "cell_type": "code",
   "execution_count": 2,
   "id": "5c399669",
   "metadata": {},
   "outputs": [
    {
     "name": "stdout",
     "output_type": "stream",
     "text": [
      "[0 0 0 0 1 0 0 0 0 0]\n"
     ]
    }
   ],
   "source": [
    "# 문제 1\n",
    "# 크기 10인 Null 벡터를 생성하되, 다섯 번째 값은 1으로 하는 벡터를 출력하라.\n",
    "# 단, 데이터 값 타입은 int32로 지정하라.\n",
    "import numpy as np\n",
    "vec = np.zeros(10, dtype = 'int32')\n",
    "vec[4] = 1\n",
    "print(vec)"
   ]
  },
  {
   "cell_type": "code",
   "execution_count": 3,
   "id": "0849bb98",
   "metadata": {},
   "outputs": [
    {
     "name": "stdout",
     "output_type": "stream",
     "text": [
      "[[0 1 0 1 0 1 0 1]\n",
      " [1 0 1 0 1 0 1 0]\n",
      " [0 1 0 1 0 1 0 1]\n",
      " [1 0 1 0 1 0 1 0]\n",
      " [0 1 0 1 0 1 0 1]\n",
      " [1 0 1 0 1 0 1 0]\n",
      " [0 1 0 1 0 1 0 1]\n",
      " [1 0 1 0 1 0 1 0]]\n"
     ]
    }
   ],
   "source": [
    "# 문제 2\n",
    "# 8 * 8 행렬을 생성하여 체크보드 패턴으로 채우라.\n",
    "# 자세한 형태는 아래와 같다.\n",
    "# 0 1 0 1 0 1 ..\n",
    "# 1 0 1 0 1 0 ..\n",
    "# 0 1 0 1 0 1 ..\n",
    "vec = np.zeros((8, 8), dtype = 'int32')\n",
    "vec[1::2, ::2] = 1\n",
    "vec[::2, 1::2] = 1\n",
    "print(vec)"
   ]
  },
  {
   "cell_type": "code",
   "execution_count": 4,
   "id": "e82ec60d",
   "metadata": {},
   "outputs": [
    {
     "name": "stdout",
     "output_type": "stream",
     "text": [
      "[[ 5  6  7  8  9]\n",
      " [ 0  1  2  3  4]\n",
      " [10 11 12 13 14]\n",
      " [15 16 17 18 19]\n",
      " [20 21 22 23 24]]\n"
     ]
    }
   ],
   "source": [
    "# 문제 3\n",
    "# 0 ~ 24로 이루어진 배열을 5 * 5 크기로 변환한 후 해당 배열의 1행과 2행을 바꾸어라.\n",
    "A = np.arange(25).reshape(5, 5)\n",
    "A[[0, 1]] = A[[1, 0]]\n",
    "print(A)"
   ]
  },
  {
   "cell_type": "code",
   "execution_count": 23,
   "id": "d817ead1",
   "metadata": {},
   "outputs": [
    {
     "name": "stdout",
     "output_type": "stream",
     "text": [
      "[[0 5 8]\n",
      " [2 5 1]\n",
      " [3 8 5]]\n",
      "[[0 5 8]\n",
      " [1 2 5]\n",
      " [3 5 8]]\n"
     ]
    }
   ],
   "source": [
    "# 문제 4\n",
    "# 아래의 a 배열을 열 방향으로 기준으로 정렬하라.\n",
    "a = np.random.randint(0, 10, (3, 3)) # 0 ~ 10 사이의 숫자에서 랜덤추출한 (3, 3) 배열\n",
    "print(a)\n",
    "print(np.sort(a, axis = 1))"
   ]
  },
  {
   "cell_type": "code",
   "execution_count": 24,
   "id": "62858db3",
   "metadata": {},
   "outputs": [
    {
     "data": {
      "text/plain": [
       "array([ 4,  8,  4, 16, 32])"
      ]
     },
     "execution_count": 24,
     "metadata": {},
     "output_type": "execute_result"
    }
   ],
   "source": [
    "# 문제 5\n",
    "# X 행렬이 아래와 같을 때 행렬 인덱싱을 사용하여 4의 배수만을 선택하라.\n",
    "X = np.array([[1,1,1,1], [1,2,4,8], [1,3,5,7],[1,4,16,32],[1,5,9,13]])\n",
    "X[X % 4 == 0]"
   ]
  }
 ],
 "metadata": {
  "kernelspec": {
   "display_name": "Python 3 (ipykernel)",
   "language": "python",
   "name": "python3"
  },
  "language_info": {
   "codemirror_mode": {
    "name": "ipython",
    "version": 3
   },
   "file_extension": ".py",
   "mimetype": "text/x-python",
   "name": "python",
   "nbconvert_exporter": "python",
   "pygments_lexer": "ipython3",
   "version": "3.9.7"
  }
 },
 "nbformat": 4,
 "nbformat_minor": 5
}
