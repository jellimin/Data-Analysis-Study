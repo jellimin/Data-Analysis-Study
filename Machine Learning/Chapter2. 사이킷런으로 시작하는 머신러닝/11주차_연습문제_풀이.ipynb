{
 "cells": [
  {
   "cell_type": "code",
   "execution_count": 21,
   "id": "7400929f",
   "metadata": {},
   "outputs": [
    {
     "name": "stdout",
     "output_type": "stream",
     "text": [
      "  Species  Weight  Length  Diagonal   Height   Width\n",
      "0   Bream   242.0    25.4      30.0  11.5200  4.0200\n",
      "1   Bream   290.0    26.3      31.2  12.4800  4.3056\n",
      "2   Bream   340.0    26.5      31.1  12.3778  4.6961\n",
      "3   Bream   363.0    29.0      33.5  12.7300  4.4555\n",
      "4   Bream   430.0    29.0      34.0  12.4440  5.1340\n"
     ]
    }
   ],
   "source": [
    "# 물고기 종에 따른 분류를 하기 위한 데이터 로딩\n",
    "# weight : 무게 / Length : 길이 / Diagonal : 사선 길이 / Height : 높이 / width : 너비\n",
    "\n",
    "import pandas as pd\n",
    "import numpy as np\n",
    "\n",
    "df = pd.read_csv('https://bit.ly/fish_csv')\n",
    "print(df.head())"
   ]
  },
  {
   "cell_type": "code",
   "execution_count": 22,
   "id": "fca83d56",
   "metadata": {},
   "outputs": [
    {
     "name": "stdout",
     "output_type": "stream",
     "text": [
      "   Weight  Length  Diagonal   Height   Width\n",
      "0   242.0    25.4      30.0  11.5200  4.0200\n",
      "1   290.0    26.3      31.2  12.4800  4.3056\n",
      "2   340.0    26.5      31.1  12.3778  4.6961\n",
      "3   363.0    29.0      33.5  12.7300  4.4555\n",
      "4   430.0    29.0      34.0  12.4440  5.1340\n",
      "  Species\n",
      "0   Bream\n",
      "1   Bream\n",
      "2   Bream\n",
      "3   Bream\n",
      "4   Bream\n"
     ]
    }
   ],
   "source": [
    "# Q1. 데이터를 피처 데이터셋 X_fish_df와 타겟 데이터셋 y_fish_df로 나누세요.\n",
    "\n",
    "X_fish_df = df.iloc[:, 1:]\n",
    "y_fish_df = df.iloc[:, :1]\n",
    "print(X_fish_df.head())\n",
    "print(y_fish_df.head())"
   ]
  },
  {
   "cell_type": "code",
   "execution_count": 23,
   "id": "7665dba0",
   "metadata": {},
   "outputs": [],
   "source": [
    "# Q2. 전체 데이터를 학습 데이터셋과 테스트 데이터셋으로 분리하세요.\n",
    "# 단, test_size = 0.2, random_state = 11로 지정하세요.\n",
    "\n",
    "from sklearn.model_selection import train_test_split\n",
    "X_train, X_test, y_train, y_test = train_test_split(X_fish_df, y_fish_df, \n",
    "                                                    test_size = 0.2, random_state = 11)"
   ]
  },
  {
   "cell_type": "code",
   "execution_count": 24,
   "id": "30cdec87",
   "metadata": {},
   "outputs": [
    {
     "name": "stdout",
     "output_type": "stream",
     "text": [
      "1.0\n"
     ]
    },
    {
     "name": "stderr",
     "output_type": "stream",
     "text": [
      "C:\\Users\\gram\\anaconda3\\lib\\site-packages\\sklearn\\utils\\validation.py:993: DataConversionWarning: A column-vector y was passed when a 1d array was expected. Please change the shape of y to (n_samples, ), for example using ravel().\n",
      "  y = column_or_1d(y, warn=True)\n"
     ]
    }
   ],
   "source": [
    "# Q3. 로지스틱 회귀 모델을 이용하기 위해 아래 빈칸을 채워넣으세요.\n",
    "# 단, 모델 성능 평가 지표로는 정확도를 사용하세요.\n",
    "\n",
    "from sklearn.linear_model import LogisticRegression\n",
    "from sklearn.metrics import accuracy_score\n",
    "\n",
    "lr_clf = LogisticRegression(solver = 'liblinear')\n",
    "\n",
    "lr_clf.fit(X_train, y_train)\n",
    "lr_pred = lr_clf.predict(X_test)\n",
    "print(accuracy_score(y_test, lr_pred))"
   ]
  },
  {
   "cell_type": "code",
   "execution_count": 16,
   "id": "56af989b",
   "metadata": {},
   "outputs": [
    {
     "name": "stdout",
     "output_type": "stream",
     "text": [
      "교차 검증 0 정확도 : 0.8846\n",
      "교차 검증 1 정확도 : 0.9231\n",
      "교차 검증 2 정확도 : 0.9600\n",
      "교차 검증 3 정확도 : 0.9200\n",
      "교차 검증 4 정확도 : 0.9200\n",
      "평균 정확도 0.9215\n"
     ]
    },
    {
     "name": "stderr",
     "output_type": "stream",
     "text": [
      "C:\\Users\\gram\\anaconda3\\lib\\site-packages\\sklearn\\utils\\validation.py:993: DataConversionWarning: A column-vector y was passed when a 1d array was expected. Please change the shape of y to (n_samples, ), for example using ravel().\n",
      "  y = column_or_1d(y, warn=True)\n",
      "C:\\Users\\gram\\anaconda3\\lib\\site-packages\\sklearn\\utils\\validation.py:993: DataConversionWarning: A column-vector y was passed when a 1d array was expected. Please change the shape of y to (n_samples, ), for example using ravel().\n",
      "  y = column_or_1d(y, warn=True)\n",
      "C:\\Users\\gram\\anaconda3\\lib\\site-packages\\sklearn\\utils\\validation.py:993: DataConversionWarning: A column-vector y was passed when a 1d array was expected. Please change the shape of y to (n_samples, ), for example using ravel().\n",
      "  y = column_or_1d(y, warn=True)\n",
      "C:\\Users\\gram\\anaconda3\\lib\\site-packages\\sklearn\\utils\\validation.py:993: DataConversionWarning: A column-vector y was passed when a 1d array was expected. Please change the shape of y to (n_samples, ), for example using ravel().\n",
      "  y = column_or_1d(y, warn=True)\n",
      "C:\\Users\\gram\\anaconda3\\lib\\site-packages\\sklearn\\utils\\validation.py:993: DataConversionWarning: A column-vector y was passed when a 1d array was expected. Please change the shape of y to (n_samples, ), for example using ravel().\n",
      "  y = column_or_1d(y, warn=True)\n"
     ]
    }
   ],
   "source": [
    "# Q4. cross_val_score를 이용하여 StratifiedKFold를 수행하기 위해 아래 빈칸을 채워넣으세요.\n",
    "# 단, 폴드의 갯수는 5개로 하세요.\n",
    "\n",
    "from sklearn.model_selection import cross_val_score\n",
    "\n",
    "scores = cross_val_score(lr_clf, X_train, y_train, cv = 5)\n",
    "for iter_count, accuracy in enumerate(scores):\n",
    "    print('교차 검증 {0} 정확도 : {1:0.4f}'.format(iter_count, accuracy))\n",
    "    \n",
    "print('평균 정확도 {0:0.4f}'.format(np.mean(scores)))"
   ]
  }
 ],
 "metadata": {
  "kernelspec": {
   "display_name": "Python 3 (ipykernel)",
   "language": "python",
   "name": "python3"
  },
  "language_info": {
   "codemirror_mode": {
    "name": "ipython",
    "version": 3
   },
   "file_extension": ".py",
   "mimetype": "text/x-python",
   "name": "python",
   "nbconvert_exporter": "python",
   "pygments_lexer": "ipython3",
   "version": "3.9.7"
  }
 },
 "nbformat": 4,
 "nbformat_minor": 5
}
